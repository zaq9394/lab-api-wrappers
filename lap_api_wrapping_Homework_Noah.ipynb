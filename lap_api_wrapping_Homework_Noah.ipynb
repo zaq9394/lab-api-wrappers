{
 "cells": [
  {
   "cell_type": "code",
   "execution_count": 1,
   "id": "8c2bc6c3",
   "metadata": {},
   "outputs": [],
   "source": [
    "import spotipy\n",
    "from spotipy.oauth2 import SpotifyClientCredentials\n",
    "import pandas as pd\n",
    "import numpy as np"
   ]
  },
  {
   "cell_type": "code",
   "execution_count": 2,
   "id": "67a1f5f1",
   "metadata": {},
   "outputs": [],
   "source": [
    "import urllib3, socket\n",
    "from urllib3.connection import HTTPConnection\n",
    "    \n",
    "HTTPConnection.default_socket_options = ( \n",
    "            HTTPConnection.default_socket_options + [\n",
    "            (socket.SOL_SOCKET, socket.SO_SNDBUF, 1000000), #1MB in byte\n",
    "            (socket.SOL_SOCKET, socket.SO_RCVBUF, 1000000)\n",
    "        ])\n"
   ]
  },
  {
   "cell_type": "code",
   "execution_count": 3,
   "id": "93beec4c",
   "metadata": {},
   "outputs": [],
   "source": [
    "sp = spotipy.Spotify(auth_manager=SpotifyClientCredentials(client_id='40f6f26819784e3fa5c8dbeab0414a84',\n",
    "                                                           client_secret='c944c475fcce4cd4b44f344149119f08'))"
   ]
  },
  {
   "cell_type": "markdown",
   "id": "a2265195",
   "metadata": {},
   "source": [
    "# Importing the spotify playlist"
   ]
  },
  {
   "cell_type": "code",
   "execution_count": null,
   "id": "e1245bbd",
   "metadata": {},
   "outputs": [],
   "source": []
  },
  {
   "cell_type": "code",
   "execution_count": 4,
   "id": "d5d7e401",
   "metadata": {},
   "outputs": [],
   "source": [
    "def get_playlist_tracks(playlist_id):\n",
    "    results = sp.user_playlist_tracks(\"spotify\",playlist_id)\n",
    "    tracks = results['items']\n",
    "    while results['next']!=None:\n",
    "        results = sp.next(results)\n",
    "        tracks = tracks + results['items']\n",
    "        sleep(randint(1,3))\n",
    "    return tracks"
   ]
  },
  {
   "cell_type": "code",
   "execution_count": 5,
   "id": "7481055e",
   "metadata": {},
   "outputs": [],
   "source": [
    "from random import randint\n",
    "from time import sleep"
   ]
  },
  {
   "cell_type": "code",
   "execution_count": 6,
   "id": "d86deb0c",
   "metadata": {},
   "outputs": [],
   "source": [
    "all_tracks=get_playlist_tracks('1G8IpkZKobrIlXcVPoSIuf')"
   ]
  },
  {
   "cell_type": "code",
   "execution_count": 7,
   "id": "59f4c32b",
   "metadata": {},
   "outputs": [],
   "source": [
    "all_track1=get_playlist_tracks('4rnleEAOdmFAbRcNCgZMpY')"
   ]
  },
  {
   "cell_type": "code",
   "execution_count": 8,
   "id": "1286a0af",
   "metadata": {},
   "outputs": [],
   "source": [
    "all_tracks=all_tracks+all_track1"
   ]
  },
  {
   "cell_type": "code",
   "execution_count": 9,
   "id": "c4f0cb0c",
   "metadata": {},
   "outputs": [
    {
     "data": {
      "text/plain": [
       "15295"
      ]
     },
     "execution_count": 9,
     "metadata": {},
     "output_type": "execute_result"
    }
   ],
   "source": [
    "len(all_tracks)"
   ]
  },
  {
   "cell_type": "markdown",
   "id": "92ea7177",
   "metadata": {},
   "source": [
    "# Creating a Dataframe of playlist"
   ]
  },
  {
   "cell_type": "code",
   "execution_count": 10,
   "id": "ceb2660d",
   "metadata": {},
   "outputs": [],
   "source": [
    "playlist = sp.user_playlist_tracks(\"spotify\", \"1G8IpkZKobrIlXcVPoSIuf\")\n",
    "\n",
    "song_name = []\n",
    "artist_name = []\n",
    "track_uri = []\n",
    "for i in range(len(all_tracks)):\n",
    "    try:\n",
    "        song = all_tracks[i]['track']['name']\n",
    "        artist = all_tracks[i][\"track\"][\"album\"]['artists'][0]['name']\n",
    "        uri = all_tracks[i]['track']['uri']\n",
    "        artist_name.append(artist)\n",
    "        song_name.append(song)\n",
    "        track_uri.append(uri)\n",
    "    except:\n",
    "        artist_name.append('none')\n",
    "        song_name.append('none')\n",
    "        track_uri.append('none')\n",
    "\n",
    "spotify_df=pd.DataFrame({'song': song_name,'artist': artist_name,'uri': track_uri})"
   ]
  },
  {
   "cell_type": "code",
   "execution_count": 11,
   "id": "3321970c",
   "metadata": {},
   "outputs": [
    {
     "data": {
      "text/html": [
       "<div>\n",
       "<style scoped>\n",
       "    .dataframe tbody tr th:only-of-type {\n",
       "        vertical-align: middle;\n",
       "    }\n",
       "\n",
       "    .dataframe tbody tr th {\n",
       "        vertical-align: top;\n",
       "    }\n",
       "\n",
       "    .dataframe thead th {\n",
       "        text-align: right;\n",
       "    }\n",
       "</style>\n",
       "<table border=\"1\" class=\"dataframe\">\n",
       "  <thead>\n",
       "    <tr style=\"text-align: right;\">\n",
       "      <th></th>\n",
       "      <th>song</th>\n",
       "      <th>artist</th>\n",
       "      <th>uri</th>\n",
       "    </tr>\n",
       "  </thead>\n",
       "  <tbody>\n",
       "    <tr>\n",
       "      <th>0</th>\n",
       "      <td>Like a Rolling Stone</td>\n",
       "      <td>Bob Dylan</td>\n",
       "      <td>spotify:track:3AhXZa8sUQht0UEdBJgpGc</td>\n",
       "    </tr>\n",
       "    <tr>\n",
       "      <th>1</th>\n",
       "      <td>Smells Like Teen Spirit</td>\n",
       "      <td>Nirvana</td>\n",
       "      <td>spotify:track:3oTlkzk1OtrhH8wBAduVEi</td>\n",
       "    </tr>\n",
       "    <tr>\n",
       "      <th>2</th>\n",
       "      <td>A Day In The Life - Remastered</td>\n",
       "      <td>The Beatles</td>\n",
       "      <td>spotify:track:3ZFBeIyP41HhnALjxWy1pR</td>\n",
       "    </tr>\n",
       "    <tr>\n",
       "      <th>3</th>\n",
       "      <td>Good Vibrations (Mono)</td>\n",
       "      <td>The Beach Boys</td>\n",
       "      <td>spotify:track:5Qt4Cc66g24QWwGP3YYV9y</td>\n",
       "    </tr>\n",
       "    <tr>\n",
       "      <th>4</th>\n",
       "      <td>Johnny B Goode</td>\n",
       "      <td>Chuck Berry</td>\n",
       "      <td>spotify:track:7MH2ZclofPlTrZOkPzZKhK</td>\n",
       "    </tr>\n",
       "  </tbody>\n",
       "</table>\n",
       "</div>"
      ],
      "text/plain": [
       "                             song          artist  \\\n",
       "0            Like a Rolling Stone       Bob Dylan   \n",
       "1         Smells Like Teen Spirit         Nirvana   \n",
       "2  A Day In The Life - Remastered     The Beatles   \n",
       "3          Good Vibrations (Mono)  The Beach Boys   \n",
       "4                  Johnny B Goode     Chuck Berry   \n",
       "\n",
       "                                    uri  \n",
       "0  spotify:track:3AhXZa8sUQht0UEdBJgpGc  \n",
       "1  spotify:track:3oTlkzk1OtrhH8wBAduVEi  \n",
       "2  spotify:track:3ZFBeIyP41HhnALjxWy1pR  \n",
       "3  spotify:track:5Qt4Cc66g24QWwGP3YYV9y  \n",
       "4  spotify:track:7MH2ZclofPlTrZOkPzZKhK  "
      ]
     },
     "execution_count": 11,
     "metadata": {},
     "output_type": "execute_result"
    }
   ],
   "source": [
    "spotify_df.head()"
   ]
  },
  {
   "cell_type": "code",
   "execution_count": 12,
   "id": "10abb6e5",
   "metadata": {},
   "outputs": [
    {
     "data": {
      "text/plain": [
       "(15295, 3)"
      ]
     },
     "execution_count": 12,
     "metadata": {},
     "output_type": "execute_result"
    }
   ],
   "source": [
    "spotify_df.shape"
   ]
  },
  {
   "cell_type": "markdown",
   "id": "cbc3dc57",
   "metadata": {},
   "source": [
    "# Cleaning the Nan value and duplicates"
   ]
  },
  {
   "cell_type": "code",
   "execution_count": 13,
   "id": "f3b0d23e",
   "metadata": {},
   "outputs": [
    {
     "data": {
      "text/plain": [
       "song      0\n",
       "artist    0\n",
       "uri       0\n",
       "dtype: int64"
      ]
     },
     "execution_count": 13,
     "metadata": {},
     "output_type": "execute_result"
    }
   ],
   "source": [
    "spotify_df.isna().sum()"
   ]
  },
  {
   "cell_type": "code",
   "execution_count": 14,
   "id": "140091b9",
   "metadata": {},
   "outputs": [],
   "source": [
    "spotify_df=spotify_df.dropna()"
   ]
  },
  {
   "cell_type": "code",
   "execution_count": 15,
   "id": "0c930dfe",
   "metadata": {},
   "outputs": [],
   "source": [
    "spotify_df=spotify_df.drop_duplicates(keep='first')"
   ]
  },
  {
   "cell_type": "code",
   "execution_count": 16,
   "id": "9e87d594",
   "metadata": {},
   "outputs": [],
   "source": [
    "spotify_df=spotify_df.reset_index(drop=True)"
   ]
  },
  {
   "cell_type": "markdown",
   "id": "e66b5141",
   "metadata": {},
   "source": [
    "# Using uri to get the audio features "
   ]
  },
  {
   "cell_type": "code",
   "execution_count": 17,
   "id": "439badfb",
   "metadata": {},
   "outputs": [],
   "source": [
    "#audio_f = []\n",
    "\n",
    "#for x in spotify_df['uri']:\n",
    " #   audio_f.append(sp.audio_features(x))\n"
   ]
  },
  {
   "cell_type": "code",
   "execution_count": 18,
   "id": "2bc7a88c",
   "metadata": {},
   "outputs": [],
   "source": [
    "def uri_audio_features(uri):\n",
    "    \n",
    "    return sp.audio_features(uri)"
   ]
  },
  {
   "cell_type": "code",
   "execution_count": 19,
   "id": "e581f0f0",
   "metadata": {},
   "outputs": [],
   "source": [
    "spotify_df['uri']=spotify_df['uri'].apply(uri_audio_features)"
   ]
  },
  {
   "cell_type": "code",
   "execution_count": 20,
   "id": "77320a2a",
   "metadata": {},
   "outputs": [
    {
     "data": {
      "text/html": [
       "<div>\n",
       "<style scoped>\n",
       "    .dataframe tbody tr th:only-of-type {\n",
       "        vertical-align: middle;\n",
       "    }\n",
       "\n",
       "    .dataframe tbody tr th {\n",
       "        vertical-align: top;\n",
       "    }\n",
       "\n",
       "    .dataframe thead th {\n",
       "        text-align: right;\n",
       "    }\n",
       "</style>\n",
       "<table border=\"1\" class=\"dataframe\">\n",
       "  <thead>\n",
       "    <tr style=\"text-align: right;\">\n",
       "      <th></th>\n",
       "      <th>song</th>\n",
       "      <th>artist</th>\n",
       "      <th>uri</th>\n",
       "    </tr>\n",
       "  </thead>\n",
       "  <tbody>\n",
       "    <tr>\n",
       "      <th>0</th>\n",
       "      <td>Like a Rolling Stone</td>\n",
       "      <td>Bob Dylan</td>\n",
       "      <td>[{'danceability': 0.482, 'energy': 0.721, 'key...</td>\n",
       "    </tr>\n",
       "    <tr>\n",
       "      <th>1</th>\n",
       "      <td>Smells Like Teen Spirit</td>\n",
       "      <td>Nirvana</td>\n",
       "      <td>[{'danceability': 0.485, 'energy': 0.863, 'key...</td>\n",
       "    </tr>\n",
       "    <tr>\n",
       "      <th>2</th>\n",
       "      <td>A Day In The Life - Remastered</td>\n",
       "      <td>The Beatles</td>\n",
       "      <td>[{'danceability': 0.364, 'energy': 0.457, 'key...</td>\n",
       "    </tr>\n",
       "    <tr>\n",
       "      <th>3</th>\n",
       "      <td>Good Vibrations (Mono)</td>\n",
       "      <td>The Beach Boys</td>\n",
       "      <td>[{'danceability': 0.398, 'energy': 0.413, 'key...</td>\n",
       "    </tr>\n",
       "    <tr>\n",
       "      <th>4</th>\n",
       "      <td>Johnny B Goode</td>\n",
       "      <td>Chuck Berry</td>\n",
       "      <td>[{'danceability': 0.518, 'energy': 0.756, 'key...</td>\n",
       "    </tr>\n",
       "  </tbody>\n",
       "</table>\n",
       "</div>"
      ],
      "text/plain": [
       "                             song          artist  \\\n",
       "0            Like a Rolling Stone       Bob Dylan   \n",
       "1         Smells Like Teen Spirit         Nirvana   \n",
       "2  A Day In The Life - Remastered     The Beatles   \n",
       "3          Good Vibrations (Mono)  The Beach Boys   \n",
       "4                  Johnny B Goode     Chuck Berry   \n",
       "\n",
       "                                                 uri  \n",
       "0  [{'danceability': 0.482, 'energy': 0.721, 'key...  \n",
       "1  [{'danceability': 0.485, 'energy': 0.863, 'key...  \n",
       "2  [{'danceability': 0.364, 'energy': 0.457, 'key...  \n",
       "3  [{'danceability': 0.398, 'energy': 0.413, 'key...  \n",
       "4  [{'danceability': 0.518, 'energy': 0.756, 'key...  "
      ]
     },
     "execution_count": 20,
     "metadata": {},
     "output_type": "execute_result"
    }
   ],
   "source": [
    "spotify_df.head()"
   ]
  },
  {
   "cell_type": "markdown",
   "id": "806ce13c",
   "metadata": {},
   "source": [
    "# Flattening the column"
   ]
  },
  {
   "cell_type": "code",
   "execution_count": 21,
   "id": "7193691c",
   "metadata": {},
   "outputs": [],
   "source": [
    "def flatten(data, col_list):\n",
    "    for column in col_list:\n",
    "        flattened = pd.DataFrame(dict(data[column])).transpose()\n",
    "        columns = [str(col) for col in flattened.columns]\n",
    "        flattened.columns = [column + '_' + colname for colname in columns]\n",
    "        data = pd.concat([data, flattened], axis=1)\n",
    "        data = data.drop(column, axis=1)\n",
    "    return data\n"
   ]
  },
  {
   "cell_type": "code",
   "execution_count": 22,
   "id": "92452e2f",
   "metadata": {},
   "outputs": [
    {
     "data": {
      "text/html": [
       "<div>\n",
       "<style scoped>\n",
       "    .dataframe tbody tr th:only-of-type {\n",
       "        vertical-align: middle;\n",
       "    }\n",
       "\n",
       "    .dataframe tbody tr th {\n",
       "        vertical-align: top;\n",
       "    }\n",
       "\n",
       "    .dataframe thead th {\n",
       "        text-align: right;\n",
       "    }\n",
       "</style>\n",
       "<table border=\"1\" class=\"dataframe\">\n",
       "  <thead>\n",
       "    <tr style=\"text-align: right;\">\n",
       "      <th></th>\n",
       "      <th>song</th>\n",
       "      <th>artist</th>\n",
       "      <th>uri_0</th>\n",
       "    </tr>\n",
       "  </thead>\n",
       "  <tbody>\n",
       "    <tr>\n",
       "      <th>0</th>\n",
       "      <td>Like a Rolling Stone</td>\n",
       "      <td>Bob Dylan</td>\n",
       "      <td>{'danceability': 0.482, 'energy': 0.721, 'key'...</td>\n",
       "    </tr>\n",
       "    <tr>\n",
       "      <th>1</th>\n",
       "      <td>Smells Like Teen Spirit</td>\n",
       "      <td>Nirvana</td>\n",
       "      <td>{'danceability': 0.485, 'energy': 0.863, 'key'...</td>\n",
       "    </tr>\n",
       "    <tr>\n",
       "      <th>2</th>\n",
       "      <td>A Day In The Life - Remastered</td>\n",
       "      <td>The Beatles</td>\n",
       "      <td>{'danceability': 0.364, 'energy': 0.457, 'key'...</td>\n",
       "    </tr>\n",
       "    <tr>\n",
       "      <th>3</th>\n",
       "      <td>Good Vibrations (Mono)</td>\n",
       "      <td>The Beach Boys</td>\n",
       "      <td>{'danceability': 0.398, 'energy': 0.413, 'key'...</td>\n",
       "    </tr>\n",
       "    <tr>\n",
       "      <th>4</th>\n",
       "      <td>Johnny B Goode</td>\n",
       "      <td>Chuck Berry</td>\n",
       "      <td>{'danceability': 0.518, 'energy': 0.756, 'key'...</td>\n",
       "    </tr>\n",
       "    <tr>\n",
       "      <th>...</th>\n",
       "      <td>...</td>\n",
       "      <td>...</td>\n",
       "      <td>...</td>\n",
       "    </tr>\n",
       "    <tr>\n",
       "      <th>15040</th>\n",
       "      <td>Hermit the Frog</td>\n",
       "      <td>MARINA</td>\n",
       "      <td>{'danceability': 0.609, 'energy': 0.679, 'key'...</td>\n",
       "    </tr>\n",
       "    <tr>\n",
       "      <th>15041</th>\n",
       "      <td>deja vu</td>\n",
       "      <td>Olivia Rodrigo</td>\n",
       "      <td>{'danceability': 0.439, 'energy': 0.61, 'key':...</td>\n",
       "    </tr>\n",
       "    <tr>\n",
       "      <th>15042</th>\n",
       "      <td>WHOLE LOTTA MONEY</td>\n",
       "      <td>BIA</td>\n",
       "      <td>{'danceability': 0.897, 'energy': 0.371, 'key'...</td>\n",
       "    </tr>\n",
       "    <tr>\n",
       "      <th>15043</th>\n",
       "      <td>Slumber Party (feat. Princess Nokia)</td>\n",
       "      <td>Ashnikko</td>\n",
       "      <td>{'danceability': 0.964, 'energy': 0.398, 'key'...</td>\n",
       "    </tr>\n",
       "    <tr>\n",
       "      <th>15044</th>\n",
       "      <td>telepatía</td>\n",
       "      <td>Kali Uchis</td>\n",
       "      <td>{'danceability': 0.653, 'energy': 0.524, 'key'...</td>\n",
       "    </tr>\n",
       "  </tbody>\n",
       "</table>\n",
       "<p>15045 rows × 3 columns</p>\n",
       "</div>"
      ],
      "text/plain": [
       "                                       song          artist  \\\n",
       "0                      Like a Rolling Stone       Bob Dylan   \n",
       "1                   Smells Like Teen Spirit         Nirvana   \n",
       "2            A Day In The Life - Remastered     The Beatles   \n",
       "3                    Good Vibrations (Mono)  The Beach Boys   \n",
       "4                            Johnny B Goode     Chuck Berry   \n",
       "...                                     ...             ...   \n",
       "15040                       Hermit the Frog          MARINA   \n",
       "15041                               deja vu  Olivia Rodrigo   \n",
       "15042                     WHOLE LOTTA MONEY             BIA   \n",
       "15043  Slumber Party (feat. Princess Nokia)        Ashnikko   \n",
       "15044                             telepatía      Kali Uchis   \n",
       "\n",
       "                                                   uri_0  \n",
       "0      {'danceability': 0.482, 'energy': 0.721, 'key'...  \n",
       "1      {'danceability': 0.485, 'energy': 0.863, 'key'...  \n",
       "2      {'danceability': 0.364, 'energy': 0.457, 'key'...  \n",
       "3      {'danceability': 0.398, 'energy': 0.413, 'key'...  \n",
       "4      {'danceability': 0.518, 'energy': 0.756, 'key'...  \n",
       "...                                                  ...  \n",
       "15040  {'danceability': 0.609, 'energy': 0.679, 'key'...  \n",
       "15041  {'danceability': 0.439, 'energy': 0.61, 'key':...  \n",
       "15042  {'danceability': 0.897, 'energy': 0.371, 'key'...  \n",
       "15043  {'danceability': 0.964, 'energy': 0.398, 'key'...  \n",
       "15044  {'danceability': 0.653, 'energy': 0.524, 'key'...  \n",
       "\n",
       "[15045 rows x 3 columns]"
      ]
     },
     "execution_count": 22,
     "metadata": {},
     "output_type": "execute_result"
    }
   ],
   "source": [
    "flat = flatten(spotify_df, ['uri'])\n",
    "flat"
   ]
  },
  {
   "cell_type": "code",
   "execution_count": 23,
   "id": "801850aa",
   "metadata": {},
   "outputs": [],
   "source": [
    "flat1=flatten(flat, ['uri_0'])"
   ]
  },
  {
   "cell_type": "code",
   "execution_count": null,
   "id": "ad06f39b",
   "metadata": {
    "scrolled": true
   },
   "outputs": [],
   "source": []
  },
  {
   "cell_type": "code",
   "execution_count": 24,
   "id": "c5f55fcc",
   "metadata": {},
   "outputs": [],
   "source": [
    "data=flat1"
   ]
  },
  {
   "cell_type": "code",
   "execution_count": 25,
   "id": "f69258bb",
   "metadata": {},
   "outputs": [
    {
     "data": {
      "text/plain": [
       "4    14095\n",
       "3      763\n",
       "5      121\n",
       "1       64\n",
       "0        1\n",
       "Name: uri_0_time_signature, dtype: int64"
      ]
     },
     "execution_count": 25,
     "metadata": {},
     "output_type": "execute_result"
    }
   ],
   "source": [
    "data['uri_0_time_signature'].value_counts()"
   ]
  },
  {
   "cell_type": "markdown",
   "id": "039d5198",
   "metadata": {},
   "source": [
    "# Renaming the columns"
   ]
  },
  {
   "cell_type": "code",
   "execution_count": 26,
   "id": "aa0075e4",
   "metadata": {},
   "outputs": [
    {
     "name": "stdout",
     "output_type": "stream",
     "text": [
      "Index(['song', 'artist', 'danceability', 'energy', 'key', 'loudness', 'mode',\n",
      "       'speechiness', 'acousticness', 'instrumentalness', 'liveness',\n",
      "       'valence', 'tempo', 'type', 'id', 'uri', 'track_href', 'analysis_url',\n",
      "       'duration_ms', 'time_signature'],\n",
      "      dtype='object')\n"
     ]
    }
   ],
   "source": [
    "cols=[]\n",
    "for i in range(len(data.columns)):\n",
    "    cols.append(data.columns[i].lower().replace('uri_0_', ''))\n",
    "data.columns = cols\n",
    "\n",
    "print(data.columns)"
   ]
  },
  {
   "cell_type": "code",
   "execution_count": 27,
   "id": "9b7cb1b2",
   "metadata": {},
   "outputs": [],
   "source": [
    "data=data.dropna()"
   ]
  },
  {
   "cell_type": "code",
   "execution_count": 28,
   "id": "42492080",
   "metadata": {},
   "outputs": [],
   "source": [
    "data=data.reset_index(drop=True)"
   ]
  },
  {
   "cell_type": "markdown",
   "id": "2a3e937c",
   "metadata": {},
   "source": [
    "# Selecting the desired columns"
   ]
  },
  {
   "cell_type": "code",
   "execution_count": 29,
   "id": "7a48f590",
   "metadata": {},
   "outputs": [],
   "source": [
    "data_num=data[['danceability','energy','key','loudness','mode','speechiness','acousticness','instrumentalness','liveness','valence','tempo']]"
   ]
  },
  {
   "cell_type": "code",
   "execution_count": 30,
   "id": "5b419e7c",
   "metadata": {},
   "outputs": [
    {
     "data": {
      "text/html": [
       "<div>\n",
       "<style scoped>\n",
       "    .dataframe tbody tr th:only-of-type {\n",
       "        vertical-align: middle;\n",
       "    }\n",
       "\n",
       "    .dataframe tbody tr th {\n",
       "        vertical-align: top;\n",
       "    }\n",
       "\n",
       "    .dataframe thead th {\n",
       "        text-align: right;\n",
       "    }\n",
       "</style>\n",
       "<table border=\"1\" class=\"dataframe\">\n",
       "  <thead>\n",
       "    <tr style=\"text-align: right;\">\n",
       "      <th></th>\n",
       "      <th>danceability</th>\n",
       "      <th>energy</th>\n",
       "      <th>key</th>\n",
       "      <th>loudness</th>\n",
       "      <th>mode</th>\n",
       "      <th>speechiness</th>\n",
       "      <th>acousticness</th>\n",
       "      <th>instrumentalness</th>\n",
       "      <th>liveness</th>\n",
       "      <th>valence</th>\n",
       "      <th>tempo</th>\n",
       "    </tr>\n",
       "  </thead>\n",
       "  <tbody>\n",
       "    <tr>\n",
       "      <th>0</th>\n",
       "      <td>0.482</td>\n",
       "      <td>0.721</td>\n",
       "      <td>0</td>\n",
       "      <td>-6.839</td>\n",
       "      <td>1</td>\n",
       "      <td>0.0321</td>\n",
       "      <td>0.731</td>\n",
       "      <td>0</td>\n",
       "      <td>0.189</td>\n",
       "      <td>0.557</td>\n",
       "      <td>95.263</td>\n",
       "    </tr>\n",
       "    <tr>\n",
       "      <th>1</th>\n",
       "      <td>0.485</td>\n",
       "      <td>0.863</td>\n",
       "      <td>1</td>\n",
       "      <td>-9.027</td>\n",
       "      <td>1</td>\n",
       "      <td>0.0495</td>\n",
       "      <td>0.000012</td>\n",
       "      <td>0.0162</td>\n",
       "      <td>0.138</td>\n",
       "      <td>0.767</td>\n",
       "      <td>116.835</td>\n",
       "    </tr>\n",
       "    <tr>\n",
       "      <th>2</th>\n",
       "      <td>0.364</td>\n",
       "      <td>0.457</td>\n",
       "      <td>4</td>\n",
       "      <td>-14.162</td>\n",
       "      <td>0</td>\n",
       "      <td>0.0675</td>\n",
       "      <td>0.29</td>\n",
       "      <td>0.000106</td>\n",
       "      <td>0.922</td>\n",
       "      <td>0.175</td>\n",
       "      <td>163.219</td>\n",
       "    </tr>\n",
       "    <tr>\n",
       "      <th>3</th>\n",
       "      <td>0.398</td>\n",
       "      <td>0.413</td>\n",
       "      <td>1</td>\n",
       "      <td>-10.934</td>\n",
       "      <td>1</td>\n",
       "      <td>0.0388</td>\n",
       "      <td>0.0822</td>\n",
       "      <td>0.000025</td>\n",
       "      <td>0.0891</td>\n",
       "      <td>0.331</td>\n",
       "      <td>133.574</td>\n",
       "    </tr>\n",
       "    <tr>\n",
       "      <th>4</th>\n",
       "      <td>0.518</td>\n",
       "      <td>0.756</td>\n",
       "      <td>10</td>\n",
       "      <td>-10.851</td>\n",
       "      <td>1</td>\n",
       "      <td>0.0915</td>\n",
       "      <td>0.735</td>\n",
       "      <td>0.000062</td>\n",
       "      <td>0.317</td>\n",
       "      <td>0.968</td>\n",
       "      <td>166.429</td>\n",
       "    </tr>\n",
       "  </tbody>\n",
       "</table>\n",
       "</div>"
      ],
      "text/plain": [
       "  danceability energy key loudness mode speechiness acousticness  \\\n",
       "0        0.482  0.721   0   -6.839    1      0.0321        0.731   \n",
       "1        0.485  0.863   1   -9.027    1      0.0495     0.000012   \n",
       "2        0.364  0.457   4  -14.162    0      0.0675         0.29   \n",
       "3        0.398  0.413   1  -10.934    1      0.0388       0.0822   \n",
       "4        0.518  0.756  10  -10.851    1      0.0915        0.735   \n",
       "\n",
       "  instrumentalness liveness valence    tempo  \n",
       "0                0    0.189   0.557   95.263  \n",
       "1           0.0162    0.138   0.767  116.835  \n",
       "2         0.000106    0.922   0.175  163.219  \n",
       "3         0.000025   0.0891   0.331  133.574  \n",
       "4         0.000062    0.317   0.968  166.429  "
      ]
     },
     "execution_count": 30,
     "metadata": {},
     "output_type": "execute_result"
    }
   ],
   "source": [
    "data_num.head()"
   ]
  },
  {
   "cell_type": "code",
   "execution_count": 31,
   "id": "e9528a60",
   "metadata": {},
   "outputs": [
    {
     "data": {
      "text/plain": [
       "danceability        0\n",
       "energy              0\n",
       "key                 0\n",
       "loudness            0\n",
       "mode                0\n",
       "speechiness         0\n",
       "acousticness        0\n",
       "instrumentalness    0\n",
       "liveness            0\n",
       "valence             0\n",
       "tempo               0\n",
       "dtype: int64"
      ]
     },
     "execution_count": 31,
     "metadata": {},
     "output_type": "execute_result"
    }
   ],
   "source": [
    "data_num.isna().sum()"
   ]
  },
  {
   "cell_type": "markdown",
   "id": "e48bc7e2",
   "metadata": {},
   "source": [
    "# Converting the columns to numerical columns"
   ]
  },
  {
   "cell_type": "code",
   "execution_count": 32,
   "id": "f0085c05",
   "metadata": {},
   "outputs": [
    {
     "name": "stderr",
     "output_type": "stream",
     "text": [
      "C:\\Users\\Admin\\AppData\\Local\\Temp\\ipykernel_4000\\916430225.py:2: SettingWithCopyWarning: \n",
      "A value is trying to be set on a copy of a slice from a DataFrame.\n",
      "Try using .loc[row_indexer,col_indexer] = value instead\n",
      "\n",
      "See the caveats in the documentation: https://pandas.pydata.org/pandas-docs/stable/user_guide/indexing.html#returning-a-view-versus-a-copy\n",
      "  data_num[i]=pd.to_numeric(data_num[i],errors='coerce')\n"
     ]
    }
   ],
   "source": [
    "for i in data_num.columns:\n",
    "    data_num[i]=pd.to_numeric(data_num[i],errors='coerce')"
   ]
  },
  {
   "cell_type": "code",
   "execution_count": 33,
   "id": "d5b4d2d9",
   "metadata": {},
   "outputs": [
    {
     "data": {
      "text/html": [
       "<div>\n",
       "<style scoped>\n",
       "    .dataframe tbody tr th:only-of-type {\n",
       "        vertical-align: middle;\n",
       "    }\n",
       "\n",
       "    .dataframe tbody tr th {\n",
       "        vertical-align: top;\n",
       "    }\n",
       "\n",
       "    .dataframe thead th {\n",
       "        text-align: right;\n",
       "    }\n",
       "</style>\n",
       "<table border=\"1\" class=\"dataframe\">\n",
       "  <thead>\n",
       "    <tr style=\"text-align: right;\">\n",
       "      <th></th>\n",
       "      <th>count</th>\n",
       "      <th>mean</th>\n",
       "      <th>std</th>\n",
       "      <th>min</th>\n",
       "      <th>25%</th>\n",
       "      <th>50%</th>\n",
       "      <th>75%</th>\n",
       "      <th>max</th>\n",
       "    </tr>\n",
       "  </thead>\n",
       "  <tbody>\n",
       "    <tr>\n",
       "      <th>danceability</th>\n",
       "      <td>15044.0</td>\n",
       "      <td>0.598905</td>\n",
       "      <td>0.163488</td>\n",
       "      <td>0.00000</td>\n",
       "      <td>0.4910</td>\n",
       "      <td>0.609000</td>\n",
       "      <td>0.716000</td>\n",
       "      <td>0.988</td>\n",
       "    </tr>\n",
       "    <tr>\n",
       "      <th>energy</th>\n",
       "      <td>15044.0</td>\n",
       "      <td>0.644733</td>\n",
       "      <td>0.216971</td>\n",
       "      <td>0.00002</td>\n",
       "      <td>0.5030</td>\n",
       "      <td>0.680000</td>\n",
       "      <td>0.816000</td>\n",
       "      <td>1.000</td>\n",
       "    </tr>\n",
       "    <tr>\n",
       "      <th>key</th>\n",
       "      <td>15044.0</td>\n",
       "      <td>5.278516</td>\n",
       "      <td>3.574387</td>\n",
       "      <td>0.00000</td>\n",
       "      <td>2.0000</td>\n",
       "      <td>5.000000</td>\n",
       "      <td>8.000000</td>\n",
       "      <td>11.000</td>\n",
       "    </tr>\n",
       "    <tr>\n",
       "      <th>loudness</th>\n",
       "      <td>15044.0</td>\n",
       "      <td>-8.125726</td>\n",
       "      <td>3.737479</td>\n",
       "      <td>-60.00000</td>\n",
       "      <td>-10.2505</td>\n",
       "      <td>-7.307500</td>\n",
       "      <td>-5.373750</td>\n",
       "      <td>1.342</td>\n",
       "    </tr>\n",
       "    <tr>\n",
       "      <th>mode</th>\n",
       "      <td>15044.0</td>\n",
       "      <td>0.653350</td>\n",
       "      <td>0.475919</td>\n",
       "      <td>0.00000</td>\n",
       "      <td>0.0000</td>\n",
       "      <td>1.000000</td>\n",
       "      <td>1.000000</td>\n",
       "      <td>1.000</td>\n",
       "    </tr>\n",
       "    <tr>\n",
       "      <th>speechiness</th>\n",
       "      <td>15044.0</td>\n",
       "      <td>0.081739</td>\n",
       "      <td>0.084345</td>\n",
       "      <td>0.00000</td>\n",
       "      <td>0.0349</td>\n",
       "      <td>0.047800</td>\n",
       "      <td>0.085325</td>\n",
       "      <td>0.934</td>\n",
       "    </tr>\n",
       "    <tr>\n",
       "      <th>acousticness</th>\n",
       "      <td>15044.0</td>\n",
       "      <td>0.255326</td>\n",
       "      <td>0.297586</td>\n",
       "      <td>0.00000</td>\n",
       "      <td>0.0207</td>\n",
       "      <td>0.117000</td>\n",
       "      <td>0.414000</td>\n",
       "      <td>0.996</td>\n",
       "    </tr>\n",
       "    <tr>\n",
       "      <th>instrumentalness</th>\n",
       "      <td>15044.0</td>\n",
       "      <td>0.078898</td>\n",
       "      <td>0.211064</td>\n",
       "      <td>0.00000</td>\n",
       "      <td>0.0000</td>\n",
       "      <td>0.000041</td>\n",
       "      <td>0.007168</td>\n",
       "      <td>0.993</td>\n",
       "    </tr>\n",
       "    <tr>\n",
       "      <th>liveness</th>\n",
       "      <td>15044.0</td>\n",
       "      <td>0.188887</td>\n",
       "      <td>0.149894</td>\n",
       "      <td>0.00829</td>\n",
       "      <td>0.0931</td>\n",
       "      <td>0.129000</td>\n",
       "      <td>0.247000</td>\n",
       "      <td>0.993</td>\n",
       "    </tr>\n",
       "    <tr>\n",
       "      <th>valence</th>\n",
       "      <td>15044.0</td>\n",
       "      <td>0.555951</td>\n",
       "      <td>0.241955</td>\n",
       "      <td>0.00000</td>\n",
       "      <td>0.3670</td>\n",
       "      <td>0.564000</td>\n",
       "      <td>0.754000</td>\n",
       "      <td>1.000</td>\n",
       "    </tr>\n",
       "    <tr>\n",
       "      <th>tempo</th>\n",
       "      <td>15044.0</td>\n",
       "      <td>121.641200</td>\n",
       "      <td>27.479347</td>\n",
       "      <td>0.00000</td>\n",
       "      <td>100.5320</td>\n",
       "      <td>121.018000</td>\n",
       "      <td>137.540250</td>\n",
       "      <td>217.591</td>\n",
       "    </tr>\n",
       "  </tbody>\n",
       "</table>\n",
       "</div>"
      ],
      "text/plain": [
       "                    count        mean        std       min       25%  \\\n",
       "danceability      15044.0    0.598905   0.163488   0.00000    0.4910   \n",
       "energy            15044.0    0.644733   0.216971   0.00002    0.5030   \n",
       "key               15044.0    5.278516   3.574387   0.00000    2.0000   \n",
       "loudness          15044.0   -8.125726   3.737479 -60.00000  -10.2505   \n",
       "mode              15044.0    0.653350   0.475919   0.00000    0.0000   \n",
       "speechiness       15044.0    0.081739   0.084345   0.00000    0.0349   \n",
       "acousticness      15044.0    0.255326   0.297586   0.00000    0.0207   \n",
       "instrumentalness  15044.0    0.078898   0.211064   0.00000    0.0000   \n",
       "liveness          15044.0    0.188887   0.149894   0.00829    0.0931   \n",
       "valence           15044.0    0.555951   0.241955   0.00000    0.3670   \n",
       "tempo             15044.0  121.641200  27.479347   0.00000  100.5320   \n",
       "\n",
       "                         50%         75%      max  \n",
       "danceability        0.609000    0.716000    0.988  \n",
       "energy              0.680000    0.816000    1.000  \n",
       "key                 5.000000    8.000000   11.000  \n",
       "loudness           -7.307500   -5.373750    1.342  \n",
       "mode                1.000000    1.000000    1.000  \n",
       "speechiness         0.047800    0.085325    0.934  \n",
       "acousticness        0.117000    0.414000    0.996  \n",
       "instrumentalness    0.000041    0.007168    0.993  \n",
       "liveness            0.129000    0.247000    0.993  \n",
       "valence             0.564000    0.754000    1.000  \n",
       "tempo             121.018000  137.540250  217.591  "
      ]
     },
     "execution_count": 33,
     "metadata": {},
     "output_type": "execute_result"
    }
   ],
   "source": [
    "data_num.describe().T"
   ]
  },
  {
   "cell_type": "code",
   "execution_count": 34,
   "id": "d70ec77a",
   "metadata": {},
   "outputs": [
    {
     "data": {
      "text/html": [
       "<div>\n",
       "<style scoped>\n",
       "    .dataframe tbody tr th:only-of-type {\n",
       "        vertical-align: middle;\n",
       "    }\n",
       "\n",
       "    .dataframe tbody tr th {\n",
       "        vertical-align: top;\n",
       "    }\n",
       "\n",
       "    .dataframe thead th {\n",
       "        text-align: right;\n",
       "    }\n",
       "</style>\n",
       "<table border=\"1\" class=\"dataframe\">\n",
       "  <thead>\n",
       "    <tr style=\"text-align: right;\">\n",
       "      <th></th>\n",
       "      <th>danceability</th>\n",
       "      <th>energy</th>\n",
       "      <th>key</th>\n",
       "      <th>loudness</th>\n",
       "      <th>mode</th>\n",
       "      <th>speechiness</th>\n",
       "      <th>acousticness</th>\n",
       "      <th>instrumentalness</th>\n",
       "      <th>liveness</th>\n",
       "      <th>valence</th>\n",
       "      <th>tempo</th>\n",
       "    </tr>\n",
       "  </thead>\n",
       "  <tbody>\n",
       "    <tr>\n",
       "      <th>0</th>\n",
       "      <td>0.482</td>\n",
       "      <td>0.721</td>\n",
       "      <td>0</td>\n",
       "      <td>-6.839</td>\n",
       "      <td>1</td>\n",
       "      <td>0.0321</td>\n",
       "      <td>0.731000</td>\n",
       "      <td>0.000000</td>\n",
       "      <td>0.1890</td>\n",
       "      <td>0.557</td>\n",
       "      <td>95.263</td>\n",
       "    </tr>\n",
       "    <tr>\n",
       "      <th>1</th>\n",
       "      <td>0.485</td>\n",
       "      <td>0.863</td>\n",
       "      <td>1</td>\n",
       "      <td>-9.027</td>\n",
       "      <td>1</td>\n",
       "      <td>0.0495</td>\n",
       "      <td>0.000012</td>\n",
       "      <td>0.016200</td>\n",
       "      <td>0.1380</td>\n",
       "      <td>0.767</td>\n",
       "      <td>116.835</td>\n",
       "    </tr>\n",
       "    <tr>\n",
       "      <th>2</th>\n",
       "      <td>0.364</td>\n",
       "      <td>0.457</td>\n",
       "      <td>4</td>\n",
       "      <td>-14.162</td>\n",
       "      <td>0</td>\n",
       "      <td>0.0675</td>\n",
       "      <td>0.290000</td>\n",
       "      <td>0.000106</td>\n",
       "      <td>0.9220</td>\n",
       "      <td>0.175</td>\n",
       "      <td>163.219</td>\n",
       "    </tr>\n",
       "    <tr>\n",
       "      <th>3</th>\n",
       "      <td>0.398</td>\n",
       "      <td>0.413</td>\n",
       "      <td>1</td>\n",
       "      <td>-10.934</td>\n",
       "      <td>1</td>\n",
       "      <td>0.0388</td>\n",
       "      <td>0.082200</td>\n",
       "      <td>0.000025</td>\n",
       "      <td>0.0891</td>\n",
       "      <td>0.331</td>\n",
       "      <td>133.574</td>\n",
       "    </tr>\n",
       "    <tr>\n",
       "      <th>4</th>\n",
       "      <td>0.518</td>\n",
       "      <td>0.756</td>\n",
       "      <td>10</td>\n",
       "      <td>-10.851</td>\n",
       "      <td>1</td>\n",
       "      <td>0.0915</td>\n",
       "      <td>0.735000</td>\n",
       "      <td>0.000062</td>\n",
       "      <td>0.3170</td>\n",
       "      <td>0.968</td>\n",
       "      <td>166.429</td>\n",
       "    </tr>\n",
       "  </tbody>\n",
       "</table>\n",
       "</div>"
      ],
      "text/plain": [
       "   danceability  energy  key  loudness  mode  speechiness  acousticness  \\\n",
       "0         0.482   0.721    0    -6.839     1       0.0321      0.731000   \n",
       "1         0.485   0.863    1    -9.027     1       0.0495      0.000012   \n",
       "2         0.364   0.457    4   -14.162     0       0.0675      0.290000   \n",
       "3         0.398   0.413    1   -10.934     1       0.0388      0.082200   \n",
       "4         0.518   0.756   10   -10.851     1       0.0915      0.735000   \n",
       "\n",
       "   instrumentalness  liveness  valence    tempo  \n",
       "0          0.000000    0.1890    0.557   95.263  \n",
       "1          0.016200    0.1380    0.767  116.835  \n",
       "2          0.000106    0.9220    0.175  163.219  \n",
       "3          0.000025    0.0891    0.331  133.574  \n",
       "4          0.000062    0.3170    0.968  166.429  "
      ]
     },
     "execution_count": 34,
     "metadata": {},
     "output_type": "execute_result"
    }
   ],
   "source": [
    "data_num.head()"
   ]
  },
  {
   "cell_type": "markdown",
   "id": "31a6736d",
   "metadata": {},
   "source": [
    "# Scaling the columns"
   ]
  },
  {
   "cell_type": "code",
   "execution_count": 111,
   "id": "e6373477",
   "metadata": {},
   "outputs": [],
   "source": [
    "from sklearn.preprocessing import MinMaxScaler\n",
    "from sklearn.preprocessing import StandardScaler\n",
    "transformer=StandardScaler().fit(data_num)\n",
    "x_prep = transformer.transform(data_num)\n",
    "X_prep= pd.DataFrame(x_prep,columns=data_num.columns)\n",
    "#transformer = MinMaxScaler().fit(data_num)\n",
    "#X = transformer.transform(data_num)\n",
    "#X_prep = pd.DataFrame(X, columns=data_num.columns)\n",
    "#X_prep.head()"
   ]
  },
  {
   "cell_type": "code",
   "execution_count": 112,
   "id": "7d2f1ea4",
   "metadata": {},
   "outputs": [
    {
     "data": {
      "text/html": [
       "<div>\n",
       "<style scoped>\n",
       "    .dataframe tbody tr th:only-of-type {\n",
       "        vertical-align: middle;\n",
       "    }\n",
       "\n",
       "    .dataframe tbody tr th {\n",
       "        vertical-align: top;\n",
       "    }\n",
       "\n",
       "    .dataframe thead th {\n",
       "        text-align: right;\n",
       "    }\n",
       "</style>\n",
       "<table border=\"1\" class=\"dataframe\">\n",
       "  <thead>\n",
       "    <tr style=\"text-align: right;\">\n",
       "      <th></th>\n",
       "      <th>danceability</th>\n",
       "      <th>energy</th>\n",
       "      <th>key</th>\n",
       "      <th>loudness</th>\n",
       "      <th>mode</th>\n",
       "      <th>speechiness</th>\n",
       "      <th>acousticness</th>\n",
       "      <th>instrumentalness</th>\n",
       "      <th>liveness</th>\n",
       "      <th>valence</th>\n",
       "      <th>tempo</th>\n",
       "    </tr>\n",
       "  </thead>\n",
       "  <tbody>\n",
       "    <tr>\n",
       "      <th>0</th>\n",
       "      <td>-0.715092</td>\n",
       "      <td>0.351518</td>\n",
       "      <td>-1.476810</td>\n",
       "      <td>0.344288</td>\n",
       "      <td>0.728404</td>\n",
       "      <td>-0.588541</td>\n",
       "      <td>1.598493</td>\n",
       "      <td>-0.373825</td>\n",
       "      <td>0.000757</td>\n",
       "      <td>0.004337</td>\n",
       "      <td>-0.959960</td>\n",
       "    </tr>\n",
       "    <tr>\n",
       "      <th>1</th>\n",
       "      <td>-0.696741</td>\n",
       "      <td>1.006005</td>\n",
       "      <td>-1.197033</td>\n",
       "      <td>-0.241153</td>\n",
       "      <td>0.728404</td>\n",
       "      <td>-0.382240</td>\n",
       "      <td>-0.857976</td>\n",
       "      <td>-0.297068</td>\n",
       "      <td>-0.339495</td>\n",
       "      <td>0.872296</td>\n",
       "      <td>-0.174908</td>\n",
       "    </tr>\n",
       "    <tr>\n",
       "      <th>2</th>\n",
       "      <td>-1.436880</td>\n",
       "      <td>-0.865275</td>\n",
       "      <td>-0.357700</td>\n",
       "      <td>-1.615119</td>\n",
       "      <td>-1.372864</td>\n",
       "      <td>-0.168824</td>\n",
       "      <td>0.116522</td>\n",
       "      <td>-0.373322</td>\n",
       "      <td>4.891042</td>\n",
       "      <td>-1.574523</td>\n",
       "      <td>1.513107</td>\n",
       "    </tr>\n",
       "    <tr>\n",
       "      <th>3</th>\n",
       "      <td>-1.228907</td>\n",
       "      <td>-1.068074</td>\n",
       "      <td>-1.197033</td>\n",
       "      <td>-0.751407</td>\n",
       "      <td>0.728404</td>\n",
       "      <td>-0.509103</td>\n",
       "      <td>-0.581786</td>\n",
       "      <td>-0.373704</td>\n",
       "      <td>-0.665737</td>\n",
       "      <td>-0.929753</td>\n",
       "      <td>0.434261</td>\n",
       "    </tr>\n",
       "    <tr>\n",
       "      <th>4</th>\n",
       "      <td>-0.494885</td>\n",
       "      <td>0.512835</td>\n",
       "      <td>1.320965</td>\n",
       "      <td>-0.729199</td>\n",
       "      <td>0.728404</td>\n",
       "      <td>0.115729</td>\n",
       "      <td>1.611935</td>\n",
       "      <td>-0.373531</td>\n",
       "      <td>0.854722</td>\n",
       "      <td>1.703057</td>\n",
       "      <td>1.629925</td>\n",
       "    </tr>\n",
       "  </tbody>\n",
       "</table>\n",
       "</div>"
      ],
      "text/plain": [
       "   danceability    energy       key  loudness      mode  speechiness  \\\n",
       "0     -0.715092  0.351518 -1.476810  0.344288  0.728404    -0.588541   \n",
       "1     -0.696741  1.006005 -1.197033 -0.241153  0.728404    -0.382240   \n",
       "2     -1.436880 -0.865275 -0.357700 -1.615119 -1.372864    -0.168824   \n",
       "3     -1.228907 -1.068074 -1.197033 -0.751407  0.728404    -0.509103   \n",
       "4     -0.494885  0.512835  1.320965 -0.729199  0.728404     0.115729   \n",
       "\n",
       "   acousticness  instrumentalness  liveness   valence     tempo  \n",
       "0      1.598493         -0.373825  0.000757  0.004337 -0.959960  \n",
       "1     -0.857976         -0.297068 -0.339495  0.872296 -0.174908  \n",
       "2      0.116522         -0.373322  4.891042 -1.574523  1.513107  \n",
       "3     -0.581786         -0.373704 -0.665737 -0.929753  0.434261  \n",
       "4      1.611935         -0.373531  0.854722  1.703057  1.629925  "
      ]
     },
     "execution_count": 112,
     "metadata": {},
     "output_type": "execute_result"
    }
   ],
   "source": [
    "X_prep.head()"
   ]
  },
  {
   "cell_type": "markdown",
   "id": "c960c0ee",
   "metadata": {},
   "source": [
    "# Computing the optimal k value"
   ]
  },
  {
   "cell_type": "code",
   "execution_count": 198,
   "id": "248e5d22",
   "metadata": {},
   "outputs": [],
   "source": [
    "import matplotlib.pyplot as plt\n",
    "from sklearn import cluster, datasets\n",
    "from matplotlib.lines import Line2D\n",
    "from sklearn.cluster import KMeans"
   ]
  },
  {
   "cell_type": "code",
   "execution_count": 199,
   "id": "4af8a669",
   "metadata": {},
   "outputs": [
    {
     "data": {
      "text/plain": [
       "Text(0.5, 1.0, 'Elbow Method showing the optimal k')"
      ]
     },
     "execution_count": 199,
     "metadata": {},
     "output_type": "execute_result"
    },
    {
     "data": {
      "image/png": "[encoded data removed]",
      "text/plain": [
       "<Figure size 1152x576 with 1 Axes>"
      ]
     },
     "metadata": {
      "needs_background": "light"
     },
     "output_type": "display_data"
    }
   ],
   "source": [
    "import numpy as np\n",
    "K = range(2, 10)\n",
    "inertia = []\n",
    "\n",
    "for k in K:\n",
    "    kmeans = KMeans(n_clusters=k,\n",
    "                    random_state=1234)\n",
    "    kmeans.fit(X_prep)\n",
    "    inertia.append(kmeans.inertia_)\n",
    "\n",
    "import matplotlib.pyplot as plt\n",
    "%matplotlib inline\n",
    "\n",
    "plt.figure(figsize=(16,8))\n",
    "plt.plot(K, inertia, 'bx-')\n",
    "plt.xlabel('k')\n",
    "plt.ylabel('inertia')\n",
    "plt.xticks(np.arange(min(K), max(K)+1, 1.0))\n",
    "plt.title('Elbow Method showing the optimal k')"
   ]
  },
  {
   "cell_type": "code",
   "execution_count": 200,
   "id": "50e074d5",
   "metadata": {},
   "outputs": [
    {
     "data": {
      "text/plain": [
       "Text(0.5, 1.0, 'Slhouette score showing the optimal k')"
      ]
     },
     "execution_count": 200,
     "metadata": {},
     "output_type": "execute_result"
    },
    {
     "data": {
      "image/png": "[encoded data removed]",
      "text/plain": [
       "<Figure size 1152x576 with 1 Axes>"
      ]
     },
     "metadata": {
      "needs_background": "light"
     },
     "output_type": "display_data"
    }
   ],
   "source": [
    "from sklearn.metrics import silhouette_score\n",
    "K = range(2, 10)\n",
    "silhouette = []\n",
    "\n",
    "for k in K:\n",
    "    kmeans = KMeans(n_clusters=k,\n",
    "                    random_state=1234)\n",
    "    kmeans.fit(X_prep)\n",
    "    silhouette.append(silhouette_score(X_prep, kmeans.predict(X_prep)))\n",
    "\n",
    "\n",
    "plt.figure(figsize=(16,8))\n",
    "plt.plot(K, silhouette, 'bx-')\n",
    "plt.xlabel('k')\n",
    "plt.ylabel('silhouette score')\n",
    "plt.xticks(np.arange(min(K), max(K)+1, 1.0))\n",
    "plt.title('Slhouette score showing the optimal k')"
   ]
  },
  {
   "cell_type": "code",
   "execution_count": 201,
   "id": "fedebdd7",
   "metadata": {},
   "outputs": [],
   "source": [
    "# In terms of the Elbow Method k=5 is optimal but according to the Slhouette score i should choose k=2. I am not sure which one is right."
   ]
  },
  {
   "cell_type": "markdown",
   "id": "3ce632fe",
   "metadata": {},
   "source": [
    "# Creating the KMeans Model"
   ]
  },
  {
   "cell_type": "code",
   "execution_count": 202,
   "id": "f83efa39",
   "metadata": {},
   "outputs": [
    {
     "data": {
      "text/html": [
       "<style>#sk-container-id-2 {color: black;background-color: white;}#sk-container-id-2 pre{padding: 0;}#sk-container-id-2 div.sk-toggleable {background-color: white;}#sk-container-id-2 label.sk-toggleable__label {cursor: pointer;display: block;width: 100%;margin-bottom: 0;padding: 0.3em;box-sizing: border-box;text-align: center;}#sk-container-id-2 label.sk-toggleable__label-arrow:before {content: \"▸\";float: left;margin-right: 0.25em;color: #696969;}#sk-container-id-2 label.sk-toggleable__label-arrow:hover:before {color: black;}#sk-container-id-2 div.sk-estimator:hover label.sk-toggleable__label-arrow:before {color: black;}#sk-container-id-2 div.sk-toggleable__content {max-height: 0;max-width: 0;overflow: hidden;text-align: left;background-color: #f0f8ff;}#sk-container-id-2 div.sk-toggleable__content pre {margin: 0.2em;color: black;border-radius: 0.25em;background-color: #f0f8ff;}#sk-container-id-2 input.sk-toggleable__control:checked~div.sk-toggleable__content {max-height: 200px;max-width: 100%;overflow: auto;}#sk-container-id-2 input.sk-toggleable__control:checked~label.sk-toggleable__label-arrow:before {content: \"▾\";}#sk-container-id-2 div.sk-estimator input.sk-toggleable__control:checked~label.sk-toggleable__label {background-color: #d4ebff;}#sk-container-id-2 div.sk-label input.sk-toggleable__control:checked~label.sk-toggleable__label {background-color: #d4ebff;}#sk-container-id-2 input.sk-hidden--visually {border: 0;clip: rect(1px 1px 1px 1px);clip: rect(1px, 1px, 1px, 1px);height: 1px;margin: -1px;overflow: hidden;padding: 0;position: absolute;width: 1px;}#sk-container-id-2 div.sk-estimator {font-family: monospace;background-color: #f0f8ff;border: 1px dotted black;border-radius: 0.25em;box-sizing: border-box;margin-bottom: 0.5em;}#sk-container-id-2 div.sk-estimator:hover {background-color: #d4ebff;}#sk-container-id-2 div.sk-parallel-item::after {content: \"\";width: 100%;border-bottom: 1px solid gray;flex-grow: 1;}#sk-container-id-2 div.sk-label:hover label.sk-toggleable__label {background-color: #d4ebff;}#sk-container-id-2 div.sk-serial::before {content: \"\";position: absolute;border-left: 1px solid gray;box-sizing: border-box;top: 0;bottom: 0;left: 50%;z-index: 0;}#sk-container-id-2 div.sk-serial {display: flex;flex-direction: column;align-items: center;background-color: white;padding-right: 0.2em;padding-left: 0.2em;position: relative;}#sk-container-id-2 div.sk-item {position: relative;z-index: 1;}#sk-container-id-2 div.sk-parallel {display: flex;align-items: stretch;justify-content: center;background-color: white;position: relative;}#sk-container-id-2 div.sk-item::before, #sk-container-id-2 div.sk-parallel-item::before {content: \"\";position: absolute;border-left: 1px solid gray;box-sizing: border-box;top: 0;bottom: 0;left: 50%;z-index: -1;}#sk-container-id-2 div.sk-parallel-item {display: flex;flex-direction: column;z-index: 1;position: relative;background-color: white;}#sk-container-id-2 div.sk-parallel-item:first-child::after {align-self: flex-end;width: 50%;}#sk-container-id-2 div.sk-parallel-item:last-child::after {align-self: flex-start;width: 50%;}#sk-container-id-2 div.sk-parallel-item:only-child::after {width: 0;}#sk-container-id-2 div.sk-dashed-wrapped {border: 1px dashed gray;margin: 0 0.4em 0.5em 0.4em;box-sizing: border-box;padding-bottom: 0.4em;background-color: white;}#sk-container-id-2 div.sk-label label {font-family: monospace;font-weight: bold;display: inline-block;line-height: 1.2em;}#sk-container-id-2 div.sk-label-container {text-align: center;}#sk-container-id-2 div.sk-container {/* jupyter's `normalize.less` sets `[hidden] { display: none; }` but bootstrap.min.css set `[hidden] { display: none !important; }` so we also need the `!important` here to be able to override the default hidden behavior on the sphinx rendered scikit-learn.org. See: https://github.com/scikit-learn/scikit-learn/issues/21755 */display: inline-block !important;position: relative;}#sk-container-id-2 div.sk-text-repr-fallback {display: none;}</style><div id=\"sk-container-id-2\" class=\"sk-top-container\"><div class=\"sk-text-repr-fallback\"><pre>KMeans(n_clusters=5, random_state=1234)</pre><b>In a Jupyter environment, please rerun this cell to show the HTML representation or trust the notebook. <br />On GitHub, the HTML representation is unable to render, please try loading this page with nbviewer.org.</b></div><div class=\"sk-container\" hidden><div class=\"sk-item\"><div class=\"sk-estimator sk-toggleable\"><input class=\"sk-toggleable__control sk-hidden--visually\" id=\"sk-estimator-id-2\" type=\"checkbox\" checked><label for=\"sk-estimator-id-2\" class=\"sk-toggleable__label sk-toggleable__label-arrow\">KMeans</label><div class=\"sk-toggleable__content\"><pre>KMeans(n_clusters=5, random_state=1234)</pre></div></div></div></div></div>"
      ],
      "text/plain": [
       "KMeans(n_clusters=5, random_state=1234)"
      ]
     },
     "execution_count": 202,
     "metadata": {},
     "output_type": "execute_result"
    }
   ],
   "source": [
    "kmeans = KMeans(n_clusters=5, random_state=1234)\n",
    "kmeans.fit(X_prep)"
   ]
  },
  {
   "cell_type": "code",
   "execution_count": 203,
   "id": "afc1bf1e",
   "metadata": {},
   "outputs": [],
   "source": [
    "clusters = kmeans.predict(X_prep)"
   ]
  },
  {
   "cell_type": "code",
   "execution_count": 204,
   "id": "a845ff60",
   "metadata": {},
   "outputs": [
    {
     "data": {
      "text/plain": [
       "array([1, 1, 0, ..., 4, 2, 2])"
      ]
     },
     "execution_count": 204,
     "metadata": {},
     "output_type": "execute_result"
    }
   ],
   "source": [
    "clusters"
   ]
  },
  {
   "cell_type": "markdown",
   "id": "1b312c00",
   "metadata": {},
   "source": [
    "# Creating a new column 'cluster' and add it to the original dataset"
   ]
  },
  {
   "cell_type": "code",
   "execution_count": 205,
   "id": "f606b468",
   "metadata": {},
   "outputs": [],
   "source": [
    "data['cluster']=pd.DataFrame(clusters,columns=['cluster'])"
   ]
  },
  {
   "cell_type": "code",
   "execution_count": 206,
   "id": "7003deba",
   "metadata": {},
   "outputs": [
    {
     "data": {
      "text/html": [
       "<div>\n",
       "<style scoped>\n",
       "    .dataframe tbody tr th:only-of-type {\n",
       "        vertical-align: middle;\n",
       "    }\n",
       "\n",
       "    .dataframe tbody tr th {\n",
       "        vertical-align: top;\n",
       "    }\n",
       "\n",
       "    .dataframe thead th {\n",
       "        text-align: right;\n",
       "    }\n",
       "</style>\n",
       "<table border=\"1\" class=\"dataframe\">\n",
       "  <thead>\n",
       "    <tr style=\"text-align: right;\">\n",
       "      <th></th>\n",
       "      <th>song</th>\n",
       "      <th>artist</th>\n",
       "      <th>danceability</th>\n",
       "      <th>energy</th>\n",
       "      <th>key</th>\n",
       "      <th>loudness</th>\n",
       "      <th>mode</th>\n",
       "      <th>speechiness</th>\n",
       "      <th>acousticness</th>\n",
       "      <th>instrumentalness</th>\n",
       "      <th>...</th>\n",
       "      <th>valence</th>\n",
       "      <th>tempo</th>\n",
       "      <th>type</th>\n",
       "      <th>id</th>\n",
       "      <th>uri</th>\n",
       "      <th>track_href</th>\n",
       "      <th>analysis_url</th>\n",
       "      <th>duration_ms</th>\n",
       "      <th>time_signature</th>\n",
       "      <th>cluster</th>\n",
       "    </tr>\n",
       "  </thead>\n",
       "  <tbody>\n",
       "    <tr>\n",
       "      <th>0</th>\n",
       "      <td>Like a Rolling Stone</td>\n",
       "      <td>Bob Dylan</td>\n",
       "      <td>0.482</td>\n",
       "      <td>0.721</td>\n",
       "      <td>0</td>\n",
       "      <td>-6.839</td>\n",
       "      <td>1</td>\n",
       "      <td>0.0321</td>\n",
       "      <td>0.731</td>\n",
       "      <td>0</td>\n",
       "      <td>...</td>\n",
       "      <td>0.557</td>\n",
       "      <td>95.263</td>\n",
       "      <td>audio_features</td>\n",
       "      <td>3AhXZa8sUQht0UEdBJgpGc</td>\n",
       "      <td>spotify:track:3AhXZa8sUQht0UEdBJgpGc</td>\n",
       "      <td>https://api.spotify.com/v1/tracks/3AhXZa8sUQht...</td>\n",
       "      <td>https://api.spotify.com/v1/audio-analysis/3AhX...</td>\n",
       "      <td>369600</td>\n",
       "      <td>4</td>\n",
       "      <td>1</td>\n",
       "    </tr>\n",
       "    <tr>\n",
       "      <th>1</th>\n",
       "      <td>Smells Like Teen Spirit</td>\n",
       "      <td>Nirvana</td>\n",
       "      <td>0.485</td>\n",
       "      <td>0.863</td>\n",
       "      <td>1</td>\n",
       "      <td>-9.027</td>\n",
       "      <td>1</td>\n",
       "      <td>0.0495</td>\n",
       "      <td>0.000012</td>\n",
       "      <td>0.0162</td>\n",
       "      <td>...</td>\n",
       "      <td>0.767</td>\n",
       "      <td>116.835</td>\n",
       "      <td>audio_features</td>\n",
       "      <td>3oTlkzk1OtrhH8wBAduVEi</td>\n",
       "      <td>spotify:track:3oTlkzk1OtrhH8wBAduVEi</td>\n",
       "      <td>https://api.spotify.com/v1/tracks/3oTlkzk1Otrh...</td>\n",
       "      <td>https://api.spotify.com/v1/audio-analysis/3oTl...</td>\n",
       "      <td>300977</td>\n",
       "      <td>4</td>\n",
       "      <td>1</td>\n",
       "    </tr>\n",
       "    <tr>\n",
       "      <th>2</th>\n",
       "      <td>A Day In The Life - Remastered</td>\n",
       "      <td>The Beatles</td>\n",
       "      <td>0.364</td>\n",
       "      <td>0.457</td>\n",
       "      <td>4</td>\n",
       "      <td>-14.162</td>\n",
       "      <td>0</td>\n",
       "      <td>0.0675</td>\n",
       "      <td>0.29</td>\n",
       "      <td>0.000106</td>\n",
       "      <td>...</td>\n",
       "      <td>0.175</td>\n",
       "      <td>163.219</td>\n",
       "      <td>audio_features</td>\n",
       "      <td>3ZFBeIyP41HhnALjxWy1pR</td>\n",
       "      <td>spotify:track:3ZFBeIyP41HhnALjxWy1pR</td>\n",
       "      <td>https://api.spotify.com/v1/tracks/3ZFBeIyP41Hh...</td>\n",
       "      <td>https://api.spotify.com/v1/audio-analysis/3ZFB...</td>\n",
       "      <td>337413</td>\n",
       "      <td>4</td>\n",
       "      <td>0</td>\n",
       "    </tr>\n",
       "    <tr>\n",
       "      <th>3</th>\n",
       "      <td>Good Vibrations (Mono)</td>\n",
       "      <td>The Beach Boys</td>\n",
       "      <td>0.398</td>\n",
       "      <td>0.413</td>\n",
       "      <td>1</td>\n",
       "      <td>-10.934</td>\n",
       "      <td>1</td>\n",
       "      <td>0.0388</td>\n",
       "      <td>0.0822</td>\n",
       "      <td>0.000025</td>\n",
       "      <td>...</td>\n",
       "      <td>0.331</td>\n",
       "      <td>133.574</td>\n",
       "      <td>audio_features</td>\n",
       "      <td>5Qt4Cc66g24QWwGP3YYV9y</td>\n",
       "      <td>spotify:track:5Qt4Cc66g24QWwGP3YYV9y</td>\n",
       "      <td>https://api.spotify.com/v1/tracks/5Qt4Cc66g24Q...</td>\n",
       "      <td>https://api.spotify.com/v1/audio-analysis/5Qt4...</td>\n",
       "      <td>219147</td>\n",
       "      <td>4</td>\n",
       "      <td>0</td>\n",
       "    </tr>\n",
       "    <tr>\n",
       "      <th>4</th>\n",
       "      <td>Johnny B Goode</td>\n",
       "      <td>Chuck Berry</td>\n",
       "      <td>0.518</td>\n",
       "      <td>0.756</td>\n",
       "      <td>10</td>\n",
       "      <td>-10.851</td>\n",
       "      <td>1</td>\n",
       "      <td>0.0915</td>\n",
       "      <td>0.735</td>\n",
       "      <td>0.000062</td>\n",
       "      <td>...</td>\n",
       "      <td>0.968</td>\n",
       "      <td>166.429</td>\n",
       "      <td>audio_features</td>\n",
       "      <td>7MH2ZclofPlTrZOkPzZKhK</td>\n",
       "      <td>spotify:track:7MH2ZclofPlTrZOkPzZKhK</td>\n",
       "      <td>https://api.spotify.com/v1/tracks/7MH2ZclofPlT...</td>\n",
       "      <td>https://api.spotify.com/v1/audio-analysis/7MH2...</td>\n",
       "      <td>160893</td>\n",
       "      <td>4</td>\n",
       "      <td>1</td>\n",
       "    </tr>\n",
       "  </tbody>\n",
       "</table>\n",
       "<p>5 rows × 21 columns</p>\n",
       "</div>"
      ],
      "text/plain": [
       "                             song          artist danceability energy key  \\\n",
       "0            Like a Rolling Stone       Bob Dylan        0.482  0.721   0   \n",
       "1         Smells Like Teen Spirit         Nirvana        0.485  0.863   1   \n",
       "2  A Day In The Life - Remastered     The Beatles        0.364  0.457   4   \n",
       "3          Good Vibrations (Mono)  The Beach Boys        0.398  0.413   1   \n",
       "4                  Johnny B Goode     Chuck Berry        0.518  0.756  10   \n",
       "\n",
       "  loudness mode speechiness acousticness instrumentalness  ... valence  \\\n",
       "0   -6.839    1      0.0321        0.731                0  ...   0.557   \n",
       "1   -9.027    1      0.0495     0.000012           0.0162  ...   0.767   \n",
       "2  -14.162    0      0.0675         0.29         0.000106  ...   0.175   \n",
       "3  -10.934    1      0.0388       0.0822         0.000025  ...   0.331   \n",
       "4  -10.851    1      0.0915        0.735         0.000062  ...   0.968   \n",
       "\n",
       "     tempo            type                      id  \\\n",
       "0   95.263  audio_features  3AhXZa8sUQht0UEdBJgpGc   \n",
       "1  116.835  audio_features  3oTlkzk1OtrhH8wBAduVEi   \n",
       "2  163.219  audio_features  3ZFBeIyP41HhnALjxWy1pR   \n",
       "3  133.574  audio_features  5Qt4Cc66g24QWwGP3YYV9y   \n",
       "4  166.429  audio_features  7MH2ZclofPlTrZOkPzZKhK   \n",
       "\n",
       "                                    uri  \\\n",
       "0  spotify:track:3AhXZa8sUQht0UEdBJgpGc   \n",
       "1  spotify:track:3oTlkzk1OtrhH8wBAduVEi   \n",
       "2  spotify:track:3ZFBeIyP41HhnALjxWy1pR   \n",
       "3  spotify:track:5Qt4Cc66g24QWwGP3YYV9y   \n",
       "4  spotify:track:7MH2ZclofPlTrZOkPzZKhK   \n",
       "\n",
       "                                          track_href  \\\n",
       "0  https://api.spotify.com/v1/tracks/3AhXZa8sUQht...   \n",
       "1  https://api.spotify.com/v1/tracks/3oTlkzk1Otrh...   \n",
       "2  https://api.spotify.com/v1/tracks/3ZFBeIyP41Hh...   \n",
       "3  https://api.spotify.com/v1/tracks/5Qt4Cc66g24Q...   \n",
       "4  https://api.spotify.com/v1/tracks/7MH2ZclofPlT...   \n",
       "\n",
       "                                        analysis_url duration_ms  \\\n",
       "0  https://api.spotify.com/v1/audio-analysis/3AhX...      369600   \n",
       "1  https://api.spotify.com/v1/audio-analysis/3oTl...      300977   \n",
       "2  https://api.spotify.com/v1/audio-analysis/3ZFB...      337413   \n",
       "3  https://api.spotify.com/v1/audio-analysis/5Qt4...      219147   \n",
       "4  https://api.spotify.com/v1/audio-analysis/7MH2...      160893   \n",
       "\n",
       "  time_signature cluster  \n",
       "0              4       1  \n",
       "1              4       1  \n",
       "2              4       0  \n",
       "3              4       0  \n",
       "4              4       1  \n",
       "\n",
       "[5 rows x 21 columns]"
      ]
     },
     "execution_count": 206,
     "metadata": {},
     "output_type": "execute_result"
    }
   ],
   "source": [
    "data.head()"
   ]
  },
  {
   "cell_type": "code",
   "execution_count": 207,
   "id": "7e9c1843",
   "metadata": {},
   "outputs": [],
   "source": [
    "#data.to_csv('data.csv')"
   ]
  },
  {
   "cell_type": "markdown",
   "id": "14efa281",
   "metadata": {},
   "source": [
    "# Defining a function to normalize the data and calculate cluster to which the song belongs"
   ]
  },
  {
   "cell_type": "code",
   "execution_count": 209,
   "id": "a1d47b0b",
   "metadata": {},
   "outputs": [],
   "source": [
    "def scaling_data(uri):\n",
    "    demo_music=pd.DataFrame(pd.DataFrame(sp.audio_features(uri)))\n",
    "    demo_num=demo_music[['danceability','energy','key','loudness','mode','speechiness','acousticness','instrumentalness','liveness','valence','tempo']]\n",
    "    for i in demo_num.columns:\n",
    "        demo_num[i]=pd.to_numeric(demo_num[i],errors='coerce')\n",
    "    demo_prep = transformer.transform(demo_num)\n",
    "    demo_cluster=kmeans.predict(demo_prep)\n",
    "    return demo_cluster"
   ]
  },
  {
   "cell_type": "code",
   "execution_count": 210,
   "id": "7b5a69ef",
   "metadata": {},
   "outputs": [
    {
     "name": "stderr",
     "output_type": "stream",
     "text": [
      "C:\\Users\\Admin\\AppData\\Local\\Temp\\ipykernel_4000\\2363950725.py:5: SettingWithCopyWarning: \n",
      "A value is trying to be set on a copy of a slice from a DataFrame.\n",
      "Try using .loc[row_indexer,col_indexer] = value instead\n",
      "\n",
      "See the caveats in the documentation: https://pandas.pydata.org/pandas-docs/stable/user_guide/indexing.html#returning-a-view-versus-a-copy\n",
      "  demo_num[i]=pd.to_numeric(demo_num[i],errors='coerce')\n",
      "D:\\anaconda\\lib\\site-packages\\sklearn\\base.py:450: UserWarning: X does not have valid feature names, but KMeans was fitted with feature names\n",
      "  warnings.warn(\n"
     ]
    },
    {
     "data": {
      "text/plain": [
       "array([1])"
      ]
     },
     "execution_count": 210,
     "metadata": {},
     "output_type": "execute_result"
    }
   ],
   "source": [
    "scaling_data(results['tracks']['items'][1]['uri'])"
   ]
  },
  {
   "cell_type": "code",
   "execution_count": null,
   "id": "2287c577",
   "metadata": {},
   "outputs": [],
   "source": [
    "# I don't know why it prompts me a warning message."
   ]
  },
  {
   "cell_type": "markdown",
   "id": "a85cc202",
   "metadata": {},
   "source": [
    "# Get top 100 Songs list"
   ]
  },
  {
   "cell_type": "code",
   "execution_count": 120,
   "id": "06dd0a5d",
   "metadata": {},
   "outputs": [],
   "source": [
    "from bs4 import BeautifulSoup\n",
    "import requests\n",
    "import pandas as pd\n",
    "import re\n",
    "import random"
   ]
  },
  {
   "cell_type": "code",
   "execution_count": 52,
   "id": "2f9a32a3",
   "metadata": {},
   "outputs": [],
   "source": [
    "url = \"https://www.popvortex.com/music/charts/top-100-songs.php\""
   ]
  },
  {
   "cell_type": "code",
   "execution_count": 53,
   "id": "a53ffa25",
   "metadata": {},
   "outputs": [],
   "source": [
    "response = requests.get(url)\n",
    "response.status_code\n",
    "soup = BeautifulSoup(response.content, \"html.parser\")"
   ]
  },
  {
   "cell_type": "code",
   "execution_count": 54,
   "id": "01a06def",
   "metadata": {},
   "outputs": [],
   "source": [
    "title=[]\n",
    "artist=[]\n",
    "release_time=[]\n",
    "genre=[]\n",
    "num_iter = len(soup.select('div.chart-content.col-xs-12.col-sm-8 > p '))\n",
    "for i in range(num_iter):\n",
    "    title.append(soup.select(\"cite.title\")[i].get_text())\n",
    "    artist.append(soup.select('em.artist')[i].get_text())\n",
    "   "
   ]
  },
  {
   "cell_type": "code",
   "execution_count": 55,
   "id": "435e28c8",
   "metadata": {},
   "outputs": [],
   "source": [
    "music = pd.DataFrame({\"title\":title,\n",
    "                       \"artist\":artist,      \n",
    "                     })"
   ]
  },
  {
   "cell_type": "code",
   "execution_count": 189,
   "id": "f0ed1fce",
   "metadata": {},
   "outputs": [],
   "source": [
    "#music.head()"
   ]
  },
  {
   "cell_type": "markdown",
   "id": "fe02876a",
   "metadata": {},
   "source": [
    "# Creating the song recommender function"
   ]
  },
  {
   "cell_type": "code",
   "execution_count": 187,
   "id": "9ebebfbb",
   "metadata": {},
   "outputs": [],
   "source": [
    "def song_recommend(): \n",
    "    k=1\n",
    "    while(k):\n",
    "        music_name=str(input(\"please import a song name:\"))\n",
    "        if music_name in music['title'].values:\n",
    "            arbi=random.randint(0,len(music.index)-1)\n",
    "            print('Our recommandation for you is:',music['title'][arbi],'singed by',music['artist'][arbi])\n",
    "            if music['title'][arbi]==music_name:\n",
    "                continue\n",
    "            else:\n",
    "                k=0\n",
    "        else:\n",
    "            results = sp.search(q=music_name)\n",
    "            for i in range(len(results['tracks']['items'])):\n",
    "                    print('Is the song you search:%s by %s'%(results['tracks']['items'][i]['name'],results['tracks']['items'][i]['artists'][0]['name']))\n",
    "                    answer=str(input('please input Y or N:'))\n",
    "                    if answer=='Y':\n",
    "                        track=results['tracks']['items'][i]['uri']\n",
    "                        result_cluster=scaling_data(track)\n",
    "                        #print(result_cluster)\n",
    "                        song_cluster=data\n",
    "                        song_cluster_demo=song_cluster[(song_cluster['cluster'].isin(result_cluster))]\n",
    "                        song_cluster_demo=song_cluster_demo.reset_index(drop=True)\n",
    "                        #display(song_cluster_demo)\n",
    "                        random_number=random.randint(0,len(song_cluster_demo.index)-1)\n",
    "                        #print(random_number)\n",
    "                        print('Our recommandation for you is:',song_cluster_demo['song'][random_number],'singed by',song_cluster_demo['artist'][random_number])\n",
    "                        break\n",
    "                    else:\n",
    "                        continue\n",
    "            k=0"
   ]
  },
  {
   "cell_type": "code",
   "execution_count": 188,
   "id": "a04e10cd",
   "metadata": {},
   "outputs": [
    {
     "name": "stdout",
     "output_type": "stream",
     "text": [
      "please import a song name:Da Da Da\n",
      "Is the song you search:DA DA DANCE by BABYMETAL\n",
      "please input Y or N:N\n",
      "Is the song you search:Sunroof by Nicky Youre\n",
      "please input Y or N:N\n",
      "Is the song you search:Da Da Da I Don't Love You You Don't Love Me Aha Aha Aha by Trio\n",
      "please input Y or N:Y\n"
     ]
    },
    {
     "name": "stderr",
     "output_type": "stream",
     "text": [
      "C:\\Users\\Admin\\AppData\\Local\\Temp\\ipykernel_4000\\3029072592.py:5: SettingWithCopyWarning: \n",
      "A value is trying to be set on a copy of a slice from a DataFrame.\n",
      "Try using .loc[row_indexer,col_indexer] = value instead\n",
      "\n",
      "See the caveats in the documentation: https://pandas.pydata.org/pandas-docs/stable/user_guide/indexing.html#returning-a-view-versus-a-copy\n",
      "  demo_num[i]=pd.to_numeric(demo_num[i],errors='coerce')\n"
     ]
    },
    {
     "name": "stdout",
     "output_type": "stream",
     "text": [
      "Our recommandation for you is: Give Me All Your Luvin' singed by Madonna\n"
     ]
    },
    {
     "name": "stderr",
     "output_type": "stream",
     "text": [
      "D:\\anaconda\\lib\\site-packages\\sklearn\\base.py:450: UserWarning: X does not have valid feature names, but KMeans was fitted with feature names\n",
      "  warnings.warn(\n"
     ]
    }
   ],
   "source": [
    "song_recommend()"
   ]
  },
  {
   "cell_type": "code",
   "execution_count": null,
   "id": "9bd7379a",
   "metadata": {},
   "outputs": [],
   "source": []
  },
  {
   "cell_type": "code",
   "execution_count": null,
   "id": "1a292da0",
   "metadata": {},
   "outputs": [],
   "source": []
  }
 ],
 "metadata": {
  "kernelspec": {
   "display_name": "Python 3 (ipykernel)",
   "language": "python",
   "name": "python3"
  },
  "language_info": {
   "codemirror_mode": {
    "name": "ipython",
    "version": 3
   },
   "file_extension": ".py",
   "mimetype": "text/x-python",
   "name": "python",
   "nbconvert_exporter": "python",
   "pygments_lexer": "ipython3",
   "version": "3.9.12"
  }
 },
 "nbformat": 4,
 "nbformat_minor": 5
}
