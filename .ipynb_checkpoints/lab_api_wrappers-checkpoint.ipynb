{
 "cells": [
  {
   "cell_type": "code",
   "execution_count": 121,
   "id": "520a61d4",
   "metadata": {},
   "outputs": [],
   "source": [
    "import spotipy\n",
    "from spotipy.oauth2 import SpotifyClientCredentials\n",
    "import pandas as pd"
   ]
  },
  {
   "cell_type": "code",
   "execution_count": 122,
   "id": "53e19f30",
   "metadata": {},
   "outputs": [],
   "source": [
    "sp = spotipy.Spotify(auth_manager=SpotifyClientCredentials(client_id='112618acfc6c44749e66db9decc21e1e',\n",
    "                                                           client_secret='12af8674fb774be4a534fd9c9987877e'))"
   ]
  },
  {
   "cell_type": "code",
   "execution_count": 206,
   "id": "98a6cdfe",
   "metadata": {},
   "outputs": [
    {
     "data": {
      "text/plain": [
       "'spotify:track:2V4bv1fNWfTcyRJKmej6Sj'"
      ]
     },
     "execution_count": 206,
     "metadata": {},
     "output_type": "execute_result"
    }
   ],
   "source": [
    "playlist['items'][1]['track']['uri']"
   ]
  },
  {
   "cell_type": "code",
   "execution_count": 123,
   "id": "08e5ee41",
   "metadata": {},
   "outputs": [],
   "source": [
    "from random import randint\n",
    "from time import sleep\n"
   ]
  },
  {
   "cell_type": "code",
   "execution_count": 127,
   "id": "6cf56e72",
   "metadata": {},
   "outputs": [],
   "source": []
  },
  {
   "cell_type": "code",
   "execution_count": 253,
   "id": "486e392a",
   "metadata": {},
   "outputs": [],
   "source": [
    "def get_name_artists_from_track(track):\n",
    "    str1=''\n",
    "    list1=[]\n",
    "    for artist in track['artists']:\n",
    "        if artist['name'] !=None:\n",
    "            list1.append(artist['name'])\n",
    "\n",
    "     \n",
    "    return (track[\"name\"],list1,track['uri'])"
   ]
  },
  {
   "cell_type": "code",
   "execution_count": 258,
   "id": "c4e458a4",
   "metadata": {},
   "outputs": [],
   "source": [
    "def get_name_artist_from_playlist_item(playlist_item):\n",
    "    return get_name_artists_from_track(playlist_item['track'])"
   ]
  },
  {
   "cell_type": "code",
   "execution_count": 259,
   "id": "239e26dd",
   "metadata": {},
   "outputs": [],
   "source": [
    "def get_name_artists_from_playlist(input_playlist):\n",
    "    return list(map(get_name_artist_from_playlist_item,input_playlist[\"items\"]))"
   ]
  },
  {
   "cell_type": "code",
   "execution_count": 278,
   "id": "c1d3c221",
   "metadata": {},
   "outputs": [],
   "source": [
    "#get_name_artists_from_playlist(playlist)"
   ]
  },
  {
   "cell_type": "code",
   "execution_count": 261,
   "id": "a0defe82",
   "metadata": {},
   "outputs": [],
   "source": [
    "def get_name_artist_uri_from_playlist(playlist_id):\n",
    "    results = sp.user_playlist_tracks(\"spotify\",playlist_id)\n",
    "    tracks = get_name_artists_from_playlist(results)\n",
    "\n",
    "    while results['next']!=None:\n",
    "        results = sp.next(results)\n",
    "        tracks = tracks + get_name_artists_from_playlist(results)\n",
    "        sleep(randint(1,3))\n",
    "    return tracks"
   ]
  },
  {
   "cell_type": "code",
   "execution_count": 262,
   "id": "1d5c178a",
   "metadata": {},
   "outputs": [],
   "source": [
    "all_tracks = get_name_artist_uri_from_playlist(\"4rnleEAOdmFAbRcNCgZMpY\")"
   ]
  },
  {
   "cell_type": "code",
   "execution_count": 263,
   "id": "e76fed92",
   "metadata": {},
   "outputs": [
    {
     "data": {
      "text/plain": [
       "5295"
      ]
     },
     "execution_count": 263,
     "metadata": {},
     "output_type": "execute_result"
    }
   ],
   "source": [
    "len(all_tracks)"
   ]
  },
  {
   "cell_type": "code",
   "execution_count": 279,
   "id": "fce9d215",
   "metadata": {},
   "outputs": [],
   "source": [
    "#all_tracks"
   ]
  },
  {
   "cell_type": "code",
   "execution_count": 265,
   "id": "a8f74c32",
   "metadata": {},
   "outputs": [],
   "source": [
    "list1=[all_tracks[i][0] for i in range(len(all_tracks)) ]"
   ]
  },
  {
   "cell_type": "code",
   "execution_count": null,
   "id": "acb766e2",
   "metadata": {},
   "outputs": [],
   "source": []
  },
  {
   "cell_type": "code",
   "execution_count": 274,
   "id": "5903141e",
   "metadata": {},
   "outputs": [],
   "source": [
    "list2=[all_tracks[i][1] for i in range(len(all_tracks)) ]"
   ]
  },
  {
   "cell_type": "code",
   "execution_count": 273,
   "id": "e77c3b64",
   "metadata": {},
   "outputs": [],
   "source": [
    "list3=[all_tracks[i][2] for i in range(len(all_tracks))]"
   ]
  },
  {
   "cell_type": "code",
   "execution_count": null,
   "id": "94e5222d",
   "metadata": {},
   "outputs": [],
   "source": []
  },
  {
   "cell_type": "code",
   "execution_count": 268,
   "id": "2b7d566a",
   "metadata": {},
   "outputs": [],
   "source": [
    "data=pd.DataFrame({'name_of_song':list1,'artist':list2,'uri':list3})"
   ]
  },
  {
   "cell_type": "code",
   "execution_count": 269,
   "id": "7a72291d",
   "metadata": {},
   "outputs": [
    {
     "data": {
      "text/html": [
       "<div>\n",
       "<style scoped>\n",
       "    .dataframe tbody tr th:only-of-type {\n",
       "        vertical-align: middle;\n",
       "    }\n",
       "\n",
       "    .dataframe tbody tr th {\n",
       "        vertical-align: top;\n",
       "    }\n",
       "\n",
       "    .dataframe thead th {\n",
       "        text-align: right;\n",
       "    }\n",
       "</style>\n",
       "<table border=\"1\" class=\"dataframe\">\n",
       "  <thead>\n",
       "    <tr style=\"text-align: right;\">\n",
       "      <th></th>\n",
       "      <th>name_of_song</th>\n",
       "      <th>artist</th>\n",
       "      <th>uri</th>\n",
       "    </tr>\n",
       "  </thead>\n",
       "  <tbody>\n",
       "    <tr>\n",
       "      <th>0</th>\n",
       "      <td>Take Me To Church</td>\n",
       "      <td>[Hozier]</td>\n",
       "      <td>spotify:track:7dS5EaCoMnN7DzlpT6aRn2</td>\n",
       "    </tr>\n",
       "    <tr>\n",
       "      <th>1</th>\n",
       "      <td>Cooler Than Me - Single Mix</td>\n",
       "      <td>[Mike Posner, Gigamesh]</td>\n",
       "      <td>spotify:track:2V4bv1fNWfTcyRJKmej6Sj</td>\n",
       "    </tr>\n",
       "    <tr>\n",
       "      <th>2</th>\n",
       "      <td>See You Again (feat. Kali Uchis)</td>\n",
       "      <td>[Tyler, The Creator, Kali Uchis]</td>\n",
       "      <td>spotify:track:7KA4W4McWYRpgf0fWsJZWB</td>\n",
       "    </tr>\n",
       "    <tr>\n",
       "      <th>3</th>\n",
       "      <td>Pompeii</td>\n",
       "      <td>[Bastille]</td>\n",
       "      <td>spotify:track:3gbBpTdY8lnQwqxNCcf795</td>\n",
       "    </tr>\n",
       "    <tr>\n",
       "      <th>4</th>\n",
       "      <td>Hips Don't Lie (feat. Wyclef Jean)</td>\n",
       "      <td>[Shakira, Wyclef Jean]</td>\n",
       "      <td>spotify:track:3ZFTkvIE7kyPt6Nu3PEa7V</td>\n",
       "    </tr>\n",
       "  </tbody>\n",
       "</table>\n",
       "</div>"
      ],
      "text/plain": [
       "                         name_of_song                            artist  \\\n",
       "0                   Take Me To Church                          [Hozier]   \n",
       "1         Cooler Than Me - Single Mix           [Mike Posner, Gigamesh]   \n",
       "2    See You Again (feat. Kali Uchis)  [Tyler, The Creator, Kali Uchis]   \n",
       "3                             Pompeii                        [Bastille]   \n",
       "4  Hips Don't Lie (feat. Wyclef Jean)            [Shakira, Wyclef Jean]   \n",
       "\n",
       "                                    uri  \n",
       "0  spotify:track:7dS5EaCoMnN7DzlpT6aRn2  \n",
       "1  spotify:track:2V4bv1fNWfTcyRJKmej6Sj  \n",
       "2  spotify:track:7KA4W4McWYRpgf0fWsJZWB  \n",
       "3  spotify:track:3gbBpTdY8lnQwqxNCcf795  \n",
       "4  spotify:track:3ZFTkvIE7kyPt6Nu3PEa7V  "
      ]
     },
     "execution_count": 269,
     "metadata": {},
     "output_type": "execute_result"
    }
   ],
   "source": [
    "data.head()"
   ]
  },
  {
   "cell_type": "code",
   "execution_count": 223,
   "id": "a36c77eb",
   "metadata": {},
   "outputs": [
    {
     "data": {
      "text/plain": [
       "name_of_song    0\n",
       "artist          0\n",
       "uri             0\n",
       "dtype: int64"
      ]
     },
     "execution_count": 223,
     "metadata": {},
     "output_type": "execute_result"
    }
   ],
   "source": [
    "data.isna().sum()"
   ]
  },
  {
   "cell_type": "code",
   "execution_count": 224,
   "id": "18ec89b1",
   "metadata": {},
   "outputs": [
    {
     "data": {
      "text/plain": [
       "(5295, 3)"
      ]
     },
     "execution_count": 224,
     "metadata": {},
     "output_type": "execute_result"
    }
   ],
   "source": [
    "data.shape"
   ]
  },
  {
   "cell_type": "code",
   "execution_count": null,
   "id": "0ea231de",
   "metadata": {},
   "outputs": [],
   "source": [
    "# Second methode written by Gaurav"
   ]
  },
  {
   "cell_type": "code",
   "execution_count": 275,
   "id": "acdf775d",
   "metadata": {},
   "outputs": [],
   "source": [
    "song_name = []\n",
    "artist_name = []\n",
    "track_uri = []\n",
    "\n",
    "for i in range(len(all_tracks)):\n",
    "    try:\n",
    "        song = all_tracks[i]['track']['name']\n",
    "        uri = all_tracks[i]['track']['uri']\n",
    "\n",
    "        song_name.append(song)\n",
    "        track_uri.append(uri)\n",
    "        artists = all_tracks[i][\"track\"][\"album\"]['artists']\n",
    "        for artist in artists:\n",
    "            artist_name.append(artist['name'])\n",
    "    except:\n",
    "        artist_name.append('none')\n",
    "        song_name.append('none')\n",
    "        track_uri.append('none')\n",
    "\n",
    "spotify_df=pd.DataFrame({'song': song_name,'artist': artist_name,'uri': track_uri})"
   ]
  },
  {
   "cell_type": "code",
   "execution_count": 276,
   "id": "273728b5",
   "metadata": {},
   "outputs": [],
   "source": []
  },
  {
   "cell_type": "code",
   "execution_count": null,
   "id": "f63ed9ab",
   "metadata": {},
   "outputs": [],
   "source": []
  },
  {
   "cell_type": "code",
   "execution_count": null,
   "id": "eb4e6a04",
   "metadata": {},
   "outputs": [],
   "source": []
  }
 ],
 "metadata": {
  "kernelspec": {
   "display_name": "Python 3 (ipykernel)",
   "language": "python",
   "name": "python3"
  },
  "language_info": {
   "codemirror_mode": {
    "name": "ipython",
    "version": 3
   },
   "file_extension": ".py",
   "mimetype": "text/x-python",
   "name": "python",
   "nbconvert_exporter": "python",
   "pygments_lexer": "ipython3",
   "version": "3.9.12"
  }
 },
 "nbformat": 4,
 "nbformat_minor": 5
}
