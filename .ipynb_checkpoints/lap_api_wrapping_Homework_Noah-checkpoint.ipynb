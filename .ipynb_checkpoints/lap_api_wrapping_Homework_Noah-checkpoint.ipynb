{
 "cells": [
  {
   "cell_type": "code",
   "execution_count": null,
   "id": "8c2bc6c3",
   "metadata": {},
   "outputs": [],
   "source": [
    "import spotipy\n",
    "from spotipy.oauth2 import SpotifyClientCredentials\n",
    "import pandas as pd\n",
    "import numpy as np"
   ]
  },
  {
   "cell_type": "code",
   "execution_count": 68,
   "id": "67a1f5f1",
   "metadata": {},
   "outputs": [],
   "source": [
    "import urllib3, socket\n",
    "from urllib3.connection import HTTPConnection\n",
    "    \n",
    "HTTPConnection.default_socket_options = ( \n",
    "            HTTPConnection.default_socket_options + [\n",
    "            (socket.SOL_SOCKET, socket.SO_SNDBUF, 1000000), #1MB in byte\n",
    "            (socket.SOL_SOCKET, socket.SO_RCVBUF, 1000000)\n",
    "        ])\n"
   ]
  },
  {
   "cell_type": "code",
   "execution_count": 59,
   "id": "93beec4c",
   "metadata": {},
   "outputs": [],
   "source": [
    "sp = spotipy.Spotify(auth_manager=SpotifyClientCredentials(client_id='40f6f26819784e3fa5c8dbeab0414a84',\n",
    "                                                           client_secret='c944c475fcce4cd4b44f344149119f08'))"
   ]
  },
  {
   "cell_type": "markdown",
   "id": "a2265195",
   "metadata": {},
   "source": [
    "# Importing the spotify playlist"
   ]
  },
  {
   "cell_type": "code",
   "execution_count": null,
   "id": "e1245bbd",
   "metadata": {},
   "outputs": [],
   "source": []
  },
  {
   "cell_type": "code",
   "execution_count": 41,
   "id": "d5d7e401",
   "metadata": {},
   "outputs": [],
   "source": [
    "def get_playlist_tracks(playlist_id):\n",
    "    results = sp.user_playlist_tracks(\"spotify\",playlist_id)\n",
    "    tracks = results['items']\n",
    "    while results['next']!=None:\n",
    "        results = sp.next(results)\n",
    "        tracks = tracks + results['items']\n",
    "        sleep(randint(1,3))\n",
    "    return tracks"
   ]
  },
  {
   "cell_type": "code",
   "execution_count": 42,
   "id": "7481055e",
   "metadata": {},
   "outputs": [],
   "source": [
    "from random import randint\n",
    "from time import sleep"
   ]
  },
  {
   "cell_type": "code",
   "execution_count": 43,
   "id": "d86deb0c",
   "metadata": {},
   "outputs": [],
   "source": [
    "all_tracks=get_playlist_tracks('1G8IpkZKobrIlXcVPoSIuf')"
   ]
  },
  {
   "cell_type": "code",
   "execution_count": 44,
   "id": "59f4c32b",
   "metadata": {},
   "outputs": [],
   "source": [
    "all_track1=get_playlist_tracks('4rnleEAOdmFAbRcNCgZMpY')"
   ]
  },
  {
   "cell_type": "code",
   "execution_count": 45,
   "id": "1286a0af",
   "metadata": {},
   "outputs": [],
   "source": [
    "all_tracks=all_tracks+all_track1"
   ]
  },
  {
   "cell_type": "code",
   "execution_count": 46,
   "id": "c4f0cb0c",
   "metadata": {},
   "outputs": [
    {
     "data": {
      "text/plain": [
       "15295"
      ]
     },
     "execution_count": 46,
     "metadata": {},
     "output_type": "execute_result"
    }
   ],
   "source": [
    "len(all_tracks)"
   ]
  },
  {
   "cell_type": "markdown",
   "id": "92ea7177",
   "metadata": {},
   "source": [
    "# Creating a Dataframe of playlist"
   ]
  },
  {
   "cell_type": "code",
   "execution_count": 47,
   "id": "ceb2660d",
   "metadata": {},
   "outputs": [],
   "source": [
    "playlist = sp.user_playlist_tracks(\"spotify\", \"1G8IpkZKobrIlXcVPoSIuf\")\n",
    "\n",
    "song_name = []\n",
    "artist_name = []\n",
    "track_uri = []\n",
    "for i in range(len(all_tracks)):\n",
    "    try:\n",
    "        song = all_tracks[i]['track']['name']\n",
    "        artist = all_tracks[i][\"track\"][\"album\"]['artists'][0]['name']\n",
    "        uri = all_tracks[i]['track']['uri']\n",
    "        artist_name.append(artist)\n",
    "        song_name.append(song)\n",
    "        track_uri.append(uri)\n",
    "    except:\n",
    "        artist_name.append('none')\n",
    "        song_name.append('none')\n",
    "        track_uri.append('none')\n",
    "\n",
    "spotify_df=pd.DataFrame({'song': song_name,'artist': artist_name,'uri': track_uri})"
   ]
  },
  {
   "cell_type": "code",
   "execution_count": 48,
   "id": "3321970c",
   "metadata": {},
   "outputs": [
    {
     "data": {
      "text/html": [
       "<div>\n",
       "<style scoped>\n",
       "    .dataframe tbody tr th:only-of-type {\n",
       "        vertical-align: middle;\n",
       "    }\n",
       "\n",
       "    .dataframe tbody tr th {\n",
       "        vertical-align: top;\n",
       "    }\n",
       "\n",
       "    .dataframe thead th {\n",
       "        text-align: right;\n",
       "    }\n",
       "</style>\n",
       "<table border=\"1\" class=\"dataframe\">\n",
       "  <thead>\n",
       "    <tr style=\"text-align: right;\">\n",
       "      <th></th>\n",
       "      <th>song</th>\n",
       "      <th>artist</th>\n",
       "      <th>uri</th>\n",
       "    </tr>\n",
       "  </thead>\n",
       "  <tbody>\n",
       "    <tr>\n",
       "      <th>0</th>\n",
       "      <td>Like a Rolling Stone</td>\n",
       "      <td>Bob Dylan</td>\n",
       "      <td>spotify:track:3AhXZa8sUQht0UEdBJgpGc</td>\n",
       "    </tr>\n",
       "    <tr>\n",
       "      <th>1</th>\n",
       "      <td>Smells Like Teen Spirit</td>\n",
       "      <td>Nirvana</td>\n",
       "      <td>spotify:track:3oTlkzk1OtrhH8wBAduVEi</td>\n",
       "    </tr>\n",
       "    <tr>\n",
       "      <th>2</th>\n",
       "      <td>A Day In The Life - Remastered</td>\n",
       "      <td>The Beatles</td>\n",
       "      <td>spotify:track:3ZFBeIyP41HhnALjxWy1pR</td>\n",
       "    </tr>\n",
       "    <tr>\n",
       "      <th>3</th>\n",
       "      <td>Good Vibrations (Mono)</td>\n",
       "      <td>The Beach Boys</td>\n",
       "      <td>spotify:track:5Qt4Cc66g24QWwGP3YYV9y</td>\n",
       "    </tr>\n",
       "    <tr>\n",
       "      <th>4</th>\n",
       "      <td>Johnny B Goode</td>\n",
       "      <td>Chuck Berry</td>\n",
       "      <td>spotify:track:7MH2ZclofPlTrZOkPzZKhK</td>\n",
       "    </tr>\n",
       "  </tbody>\n",
       "</table>\n",
       "</div>"
      ],
      "text/plain": [
       "                             song          artist  \\\n",
       "0            Like a Rolling Stone       Bob Dylan   \n",
       "1         Smells Like Teen Spirit         Nirvana   \n",
       "2  A Day In The Life - Remastered     The Beatles   \n",
       "3          Good Vibrations (Mono)  The Beach Boys   \n",
       "4                  Johnny B Goode     Chuck Berry   \n",
       "\n",
       "                                    uri  \n",
       "0  spotify:track:3AhXZa8sUQht0UEdBJgpGc  \n",
       "1  spotify:track:3oTlkzk1OtrhH8wBAduVEi  \n",
       "2  spotify:track:3ZFBeIyP41HhnALjxWy1pR  \n",
       "3  spotify:track:5Qt4Cc66g24QWwGP3YYV9y  \n",
       "4  spotify:track:7MH2ZclofPlTrZOkPzZKhK  "
      ]
     },
     "execution_count": 48,
     "metadata": {},
     "output_type": "execute_result"
    }
   ],
   "source": [
    "spotify_df.head()"
   ]
  },
  {
   "cell_type": "code",
   "execution_count": 49,
   "id": "10abb6e5",
   "metadata": {},
   "outputs": [
    {
     "data": {
      "text/plain": [
       "(15295, 3)"
      ]
     },
     "execution_count": 49,
     "metadata": {},
     "output_type": "execute_result"
    }
   ],
   "source": [
    "spotify_df.shape"
   ]
  },
  {
   "cell_type": "markdown",
   "id": "cbc3dc57",
   "metadata": {},
   "source": [
    "# Cleaning the Nan value and duplicates"
   ]
  },
  {
   "cell_type": "code",
   "execution_count": 50,
   "id": "f3b0d23e",
   "metadata": {},
   "outputs": [
    {
     "data": {
      "text/plain": [
       "song      0\n",
       "artist    0\n",
       "uri       0\n",
       "dtype: int64"
      ]
     },
     "execution_count": 50,
     "metadata": {},
     "output_type": "execute_result"
    }
   ],
   "source": [
    "spotify_df.isna().sum()"
   ]
  },
  {
   "cell_type": "code",
   "execution_count": 51,
   "id": "140091b9",
   "metadata": {},
   "outputs": [],
   "source": [
    "spotify_df=spotify_df.dropna()"
   ]
  },
  {
   "cell_type": "code",
   "execution_count": 52,
   "id": "0c930dfe",
   "metadata": {},
   "outputs": [],
   "source": [
    "spotify_df=spotify_df.drop_duplicates(keep='first')"
   ]
  },
  {
   "cell_type": "code",
   "execution_count": 53,
   "id": "9e87d594",
   "metadata": {},
   "outputs": [],
   "source": [
    "spotify_df=spotify_df.reset_index(drop=True)"
   ]
  },
  {
   "cell_type": "markdown",
   "id": "e66b5141",
   "metadata": {},
   "source": [
    "# Using uri to get the audio features "
   ]
  },
  {
   "cell_type": "code",
   "execution_count": 69,
   "id": "439badfb",
   "metadata": {},
   "outputs": [],
   "source": [
    "#audio_f = []\n",
    "\n",
    "#for x in spotify_df['uri']:\n",
    " #   audio_f.append(sp.audio_features(x))\n"
   ]
  },
  {
   "cell_type": "code",
   "execution_count": 74,
   "id": "2bc7a88c",
   "metadata": {},
   "outputs": [],
   "source": [
    "def uri_audio_features(uri):\n",
    "    sleep(randint(1,3000)/1000)\n",
    "    return sp.audio_features(uri)"
   ]
  },
  {
   "cell_type": "code",
   "execution_count": null,
   "id": "e581f0f0",
   "metadata": {},
   "outputs": [],
   "source": [
    "spotify_df['uri']=spotify_df['uri'].apply(uri_audio_features)"
   ]
  },
  {
   "cell_type": "code",
   "execution_count": null,
   "id": "77320a2a",
   "metadata": {},
   "outputs": [],
   "source": [
    "spotify_df.head()"
   ]
  },
  {
   "cell_type": "markdown",
   "id": "806ce13c",
   "metadata": {},
   "source": [
    "# Flattening the column"
   ]
  },
  {
   "cell_type": "code",
   "execution_count": null,
   "id": "7193691c",
   "metadata": {},
   "outputs": [],
   "source": [
    "def flatten(data, col_list):\n",
    "    for column in col_list:\n",
    "        flattened = pd.DataFrame(dict(data[column])).transpose()\n",
    "        columns = [str(col) for col in flattened.columns]\n",
    "        flattened.columns = [column + '_' + colname for colname in columns]\n",
    "        data = pd.concat([data, flattened], axis=1)\n",
    "        data = data.drop(column, axis=1)\n",
    "    return data\n"
   ]
  },
  {
   "cell_type": "code",
   "execution_count": null,
   "id": "92452e2f",
   "metadata": {},
   "outputs": [],
   "source": [
    "flat = flatten(spotify_df, ['uri'])\n",
    "flat"
   ]
  },
  {
   "cell_type": "code",
   "execution_count": null,
   "id": "801850aa",
   "metadata": {},
   "outputs": [],
   "source": [
    "flat1=flatten(flat, ['uri_0'])"
   ]
  },
  {
   "cell_type": "code",
   "execution_count": null,
   "id": "ad06f39b",
   "metadata": {
    "scrolled": true
   },
   "outputs": [],
   "source": []
  },
  {
   "cell_type": "code",
   "execution_count": null,
   "id": "c5f55fcc",
   "metadata": {},
   "outputs": [],
   "source": [
    "data=flat1"
   ]
  },
  {
   "cell_type": "code",
   "execution_count": null,
   "id": "f69258bb",
   "metadata": {},
   "outputs": [],
   "source": [
    "data['uri_0_time_signature'].value_counts()"
   ]
  },
  {
   "cell_type": "markdown",
   "id": "039d5198",
   "metadata": {},
   "source": [
    "# Renaming the columns"
   ]
  },
  {
   "cell_type": "code",
   "execution_count": null,
   "id": "aa0075e4",
   "metadata": {},
   "outputs": [],
   "source": [
    "cols=[]\n",
    "for i in range(len(data.columns)):\n",
    "    cols.append(data.columns[i].lower().replace('uri_0_', ''))\n",
    "data.columns = cols\n",
    "\n",
    "print(data.columns)"
   ]
  },
  {
   "cell_type": "code",
   "execution_count": null,
   "id": "9b7cb1b2",
   "metadata": {},
   "outputs": [],
   "source": [
    "data=data.dropna()"
   ]
  },
  {
   "cell_type": "code",
   "execution_count": null,
   "id": "42492080",
   "metadata": {},
   "outputs": [],
   "source": [
    "data=data.reset_index(drop=True)"
   ]
  },
  {
   "cell_type": "markdown",
   "id": "2a3e937c",
   "metadata": {},
   "source": [
    "# Selecting the desired columns"
   ]
  },
  {
   "cell_type": "code",
   "execution_count": null,
   "id": "7a48f590",
   "metadata": {},
   "outputs": [],
   "source": [
    "data_num=data[['danceability','energy','key','loudness','mode','speechiness','acousticness','instrumentalness','liveness','valence','tempo']]"
   ]
  },
  {
   "cell_type": "code",
   "execution_count": null,
   "id": "5b419e7c",
   "metadata": {},
   "outputs": [],
   "source": [
    "data_num.head()"
   ]
  },
  {
   "cell_type": "code",
   "execution_count": null,
   "id": "e9528a60",
   "metadata": {},
   "outputs": [],
   "source": [
    "data_num.isna().sum()"
   ]
  },
  {
   "cell_type": "markdown",
   "id": "e48bc7e2",
   "metadata": {},
   "source": [
    "# Converting the columns to numerical columns"
   ]
  },
  {
   "cell_type": "code",
   "execution_count": null,
   "id": "f0085c05",
   "metadata": {},
   "outputs": [],
   "source": [
    "for i in data_num.columns:\n",
    "    data_num[i]=pd.to_numeric(data_num[i],errors='coerce')"
   ]
  },
  {
   "cell_type": "code",
   "execution_count": null,
   "id": "d5b4d2d9",
   "metadata": {},
   "outputs": [],
   "source": [
    "data_num.describe().T"
   ]
  },
  {
   "cell_type": "code",
   "execution_count": null,
   "id": "d70ec77a",
   "metadata": {},
   "outputs": [],
   "source": [
    "data_num.head()"
   ]
  },
  {
   "cell_type": "markdown",
   "id": "31a6736d",
   "metadata": {},
   "source": [
    "# Scaling the columns"
   ]
  },
  {
   "cell_type": "code",
   "execution_count": null,
   "id": "e6373477",
   "metadata": {},
   "outputs": [],
   "source": [
    "from sklearn.preprocessing import MinMaxScaler\n",
    "from sklearn.preprocessing import StandardScaler\n",
    "x_prep = StandardScaler().fit_transform(data_num)\n",
    "X_prep= pd.DataFrame(x_prep,columns=data_num.columns).head()\n",
    "#transformer = MinMaxScaler().fit(data_num)\n",
    "#X = transformer.transform(data_num)\n",
    "#X_prep = pd.DataFrame(X, columns=data_num.columns)\n",
    "#X_prep.head()"
   ]
  },
  {
   "cell_type": "markdown",
   "id": "c960c0ee",
   "metadata": {},
   "source": [
    "# Computing the optimal k value"
   ]
  },
  {
   "cell_type": "code",
   "execution_count": null,
   "id": "248e5d22",
   "metadata": {},
   "outputs": [],
   "source": [
    "import matplotlib.pyplot as plt\n",
    "from sklearn import cluster, datasets\n",
    "from matplotlib.lines import Line2D\n",
    "from sklearn.cluster import KMeans"
   ]
  },
  {
   "cell_type": "code",
   "execution_count": null,
   "id": "4af8a669",
   "metadata": {},
   "outputs": [],
   "source": [
    "K = range(2, 10)\n",
    "inertia = []\n",
    "\n",
    "for k in K:\n",
    "    kmeans = KMeans(n_clusters=k,\n",
    "                    random_state=1234)\n",
    "    kmeans.fit(X_prep)\n",
    "    inertia.append(kmeans.inertia_)\n",
    "\n",
    "import matplotlib.pyplot as plt\n",
    "%matplotlib inline\n",
    "\n",
    "plt.figure(figsize=(16,8))\n",
    "plt.plot(K, inertia, 'bx-')\n",
    "plt.xlabel('k')\n",
    "plt.ylabel('inertia')\n",
    "plt.xticks(np.arange(min(K), max(K)+1, 1.0))\n",
    "plt.title('Elbow Method showing the optimal k')"
   ]
  },
  {
   "cell_type": "code",
   "execution_count": null,
   "id": "50e074d5",
   "metadata": {},
   "outputs": [],
   "source": [
    "from sklearn.metrics import silhouette_score\n",
    "K = range(2, 10)\n",
    "silhouette = []\n",
    "\n",
    "for k in K:\n",
    "    kmeans = KMeans(n_clusters=k,\n",
    "                    random_state=1234)\n",
    "    kmeans.fit(X_prep)\n",
    "    silhouette.append(silhouette_score(X_prep, kmeans.predict(X_prep)))\n",
    "\n",
    "\n",
    "plt.figure(figsize=(16,8))\n",
    "plt.plot(K, silhouette, 'bx-')\n",
    "plt.xlabel('k')\n",
    "plt.ylabel('silhouette score')\n",
    "plt.xticks(np.arange(min(K), max(K)+1, 1.0))\n",
    "plt.title('Slhouette score showing the optimal k')"
   ]
  },
  {
   "cell_type": "code",
   "execution_count": null,
   "id": "fedebdd7",
   "metadata": {},
   "outputs": [],
   "source": [
    "# In terms of the Elbow Method k=3 is optimal but according to the Slhouette score i should choose k=2. I am not sure which one is right."
   ]
  },
  {
   "cell_type": "code",
   "execution_count": null,
   "id": "f83efa39",
   "metadata": {},
   "outputs": [],
   "source": [
    "kmeans = KMeans(n_clusters=3, random_state=1234)\n",
    "kmeans.fit(X_prep)"
   ]
  },
  {
   "cell_type": "code",
   "execution_count": null,
   "id": "afc1bf1e",
   "metadata": {},
   "outputs": [],
   "source": [
    "clusters = kmeans.predict(X_prep)"
   ]
  },
  {
   "cell_type": "code",
   "execution_count": null,
   "id": "f606b468",
   "metadata": {},
   "outputs": [],
   "source": [
    "data_num['cluster']=pd.DataFrame(clusters,columns=['cluster'])"
   ]
  },
  {
   "cell_type": "code",
   "execution_count": null,
   "id": "7003deba",
   "metadata": {},
   "outputs": [],
   "source": [
    "data_num.head()"
   ]
  },
  {
   "cell_type": "code",
   "execution_count": null,
   "id": "87f2a634",
   "metadata": {},
   "outputs": [],
   "source": [
    "results = sp.search(q='Unholy')"
   ]
  },
  {
   "cell_type": "code",
   "execution_count": null,
   "id": "922d7510",
   "metadata": {},
   "outputs": [],
   "source": [
    "results['tracks']['']"
   ]
  },
  {
   "cell_type": "code",
   "execution_count": null,
   "id": "2287c577",
   "metadata": {},
   "outputs": [],
   "source": [
    "# "
   ]
  },
  {
   "cell_type": "code",
   "execution_count": null,
   "id": "06dd0a5d",
   "metadata": {},
   "outputs": [],
   "source": [
    "from bs4 import BeautifulSoup\n",
    "import requests\n",
    "import pandas as pd\n",
    "import re"
   ]
  },
  {
   "cell_type": "code",
   "execution_count": null,
   "id": "01a06def",
   "metadata": {},
   "outputs": [],
   "source": [
    "title=[]\n",
    "artist=[]\n",
    "release_time=[]\n",
    "genre=[]\n",
    "num_iter = len(soup.select('div.chart-content.col-xs-12.col-sm-8 > p '))\n",
    "for i in range(num_iter):\n",
    "    title.append(soup.select(\"cite.title\")[i].get_text())\n",
    "    artist.append(soup.select('em.artist')[i].get_text())\n",
    "   "
   ]
  },
  {
   "cell_type": "code",
   "execution_count": null,
   "id": "435e28c8",
   "metadata": {},
   "outputs": [],
   "source": [
    "music = pd.DataFrame({\"title\":title,\n",
    "                       \"artist\":artist,      \n",
    "                     })"
   ]
  },
  {
   "cell_type": "code",
   "execution_count": null,
   "id": "9ebebfbb",
   "metadata": {},
   "outputs": [],
   "source": [
    "k=1\n",
    "while(k):\n",
    "    music_name=str(input(\"please import a song name:\"))\n",
    "    if music_name in music['title'].values:\n",
    "        arbi=random.randint(0,len(music.index)-1)\n",
    "        print('Our recommandation for you is:',music['title'][arbi],'singed by',music['artist'][arbi])\n",
    "        if music['title'][arbi]==music_name:\n",
    "            continue\n",
    "        else:\n",
    "            k=0\n",
    "    else:\n",
    "        print('sorry the song is not in the list')\n",
    "        k=0"
   ]
  },
  {
   "cell_type": "code",
   "execution_count": null,
   "id": "a04e10cd",
   "metadata": {},
   "outputs": [],
   "source": []
  }
 ],
 "metadata": {
  "kernelspec": {
   "display_name": "Python 3 (ipykernel)",
   "language": "python",
   "name": "python3"
  },
  "language_info": {
   "codemirror_mode": {
    "name": "ipython",
    "version": 3
   },
   "file_extension": ".py",
   "mimetype": "text/x-python",
   "name": "python",
   "nbconvert_exporter": "python",
   "pygments_lexer": "ipython3",
   "version": "3.9.12"
  }
 },
 "nbformat": 4,
 "nbformat_minor": 5
}
